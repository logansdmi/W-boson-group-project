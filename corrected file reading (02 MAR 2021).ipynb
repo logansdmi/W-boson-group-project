{
 "cells": [
  {
   "cell_type": "code",
   "execution_count": 1,
   "id": "changed-wales",
   "metadata": {},
   "outputs": [
    {
     "name": "stdout",
     "output_type": "stream",
     "text": [
      "Welcome to JupyROOT 6.22/02\n"
     ]
    }
   ],
   "source": [
    "import ROOT as r\n",
    "import numpy as np\n",
    "from ROOT import TFile, TTree"
   ]
  },
  {
   "cell_type": "code",
   "execution_count": 2,
   "id": "unexpected-slide",
   "metadata": {},
   "outputs": [],
   "source": [
    "def thetaPhi():#\n",
    "    '''returns random theta and phi values'''\n",
    "    theta = np.random.uniform(0,2*np.pi)\n",
    "    phi = np.random.uniform(0,np.pi)\n",
    "    return theta, phi\n",
    "\n",
    "def momenta(mag, theta, phi):\n",
    "    '''given an input magnitude, theta and phi the cartesian momenta are returned'''\n",
    "    Px = mag * np.sin(theta) * np.cos(phi) \n",
    "    Py = mag * np.sin(theta) * np.sin(phi)\n",
    "    Pz = mag * np.cos(theta)\n",
    "    \n",
    "    return Px, Py, Pz\n",
    "\n",
    "def vector(g, theta, phi, mag, mass):\n",
    "    '''given a tlorentzvector g the cartesian components are set with the spherical components and the mass'''\n",
    "    Px, Py, Pz = momenta(mag, theta, phi)\n",
    "    g.SetPxPyPzE(Px, Py, Pz, mass)"
   ]
  },
  {
   "cell_type": "code",
   "execution_count": 3,
   "id": "third-vintage",
   "metadata": {},
   "outputs": [],
   "source": [
    "#defining mass of particles\n",
    "wMass = 80.3\n",
    "\n",
    "eMass = 0.0005\n",
    "\n",
    "nMass = 0\n",
    "\n",
    "# setting up particles\n",
    "w = r.TLorentzVector()\n",
    "#stationary case\n",
    "w.SetPxPyPzE(0,0,0, wMass)\n",
    "\n",
    "e = r.TLorentzVector()\n",
    "n = r.TLorentzVector()"
   ]
  },
  {
   "cell_type": "code",
   "execution_count": 4,
   "id": "regulation-newman",
   "metadata": {},
   "outputs": [],
   "source": [
    "def components(num):\n",
    "    '''given a number of events wanted, returns arrays of the components of the electron and neutrinos'''\n",
    "    \n",
    "    #initialising arrays for components\n",
    "    ePx = np.zeros(num)\n",
    "    ePy = np.zeros(num)\n",
    "    ePz = np.zeros(num)\n",
    "    eE = np.zeros(num)\n",
    "\n",
    "    nPx = np.zeros(num)\n",
    "    nPy = np.zeros(num)\n",
    "    nPz = np.zeros(num)\n",
    "    nE = np.zeros(num)\n",
    "    \n",
    "    # looping over number of events and filling component arrays\n",
    "    for i in range(num):\n",
    "        #making e components\n",
    "        thetae, phie = thetaPhi()\n",
    "        vector(e, thetae, phie, np.random.uniform(0,80), eMass)\n",
    "        \n",
    "        ePx[i] = e.Px()\n",
    "        ePy[i] = e.Py()\n",
    "        ePz[i] = e.Pz()\n",
    "        eE[i] = e.E()\n",
    "               \n",
    "        #making neutrino components\n",
    "        n = w - e\n",
    "        n.SetE(nMass)\n",
    "               \n",
    "        nPx[i] = n.Px()\n",
    "        nPy[i] = n.Py()\n",
    "        nPz[i] = n.Pz()\n",
    "        nE[i] = n.E()\n",
    "        \n",
    "    return ePx, ePy, ePz, eE, nPx, nPy, nPz, nE"
   ]
  },
  {
   "cell_type": "code",
   "execution_count": 5,
   "id": "charitable-smart",
   "metadata": {},
   "outputs": [],
   "source": [
    "file = r.TFile(\"Tree.root\", \"recreate\")"
   ]
  },
  {
   "cell_type": "code",
   "execution_count": 6,
   "id": "fancy-import",
   "metadata": {},
   "outputs": [],
   "source": [
    "# making 10 events worth of components\n",
    "ePx, ePy, ePz, eE, nPx, nPy, nPz, nE = components(10)"
   ]
  },
  {
   "cell_type": "code",
   "execution_count": 7,
   "id": "atomic-armstrong",
   "metadata": {},
   "outputs": [],
   "source": [
    "eventsArr = np.zeros(8) # [electron[4],neutrino[4]]"
   ]
  },
  {
   "cell_type": "code",
   "execution_count": 8,
   "id": "lined-nevada",
   "metadata": {},
   "outputs": [
    {
     "data": {
      "text/plain": [
       "<cppyy.gbl.TBranch object at 0x5a83670>"
      ]
     },
     "execution_count": 8,
     "metadata": {},
     "output_type": "execute_result"
    }
   ],
   "source": [
    "t = r.TTree(\"t\", \"fourVectorTree\")\n",
    "t.Branch(\"events\",eventsArr,\"eventsArray[8]/D\")"
   ]
  },
  {
   "cell_type": "code",
   "execution_count": 9,
   "id": "accepting-bargain",
   "metadata": {},
   "outputs": [],
   "source": [
    "for i in range(len(ePx)):\n",
    "    eventsArr[0] = ePx[i]\n",
    "    eventsArr[1] = ePy[i]\n",
    "    eventsArr[2] = ePz[i]\n",
    "    eventsArr[3] = eE[i]\n",
    "    \n",
    "    eventsArr[4] = nPx[i]\n",
    "    eventsArr[5] = nPy[i]\n",
    "    eventsArr[6] = nPz[i]\n",
    "    eventsArr[7] = nE[i]\n",
    "    t.Fill()"
   ]
  },
  {
   "cell_type": "code",
   "execution_count": 10,
   "id": "personal-haiti",
   "metadata": {},
   "outputs": [
    {
     "data": {
      "text/plain": [
       "80"
      ]
     },
     "execution_count": 10,
     "metadata": {},
     "output_type": "execute_result"
    },
    {
     "name": "stdout",
     "output_type": "stream",
     "text": [
      "***********************************\n",
      "*    Row   * Instance *    events *\n",
      "***********************************\n",
      "*        0 *        0 * -6.305098 *\n",
      "*        0 *        1 * -1.712210 *\n",
      "*        0 *        2 * 20.919681 *\n",
      "*        0 *        3 *    0.0005 *\n",
      "*        0 *        4 * 6.3050984 *\n",
      "*        0 *        5 * 1.7122100 *\n",
      "*        0 *        6 * -20.91968 *\n",
      "*        0 *        7 *         0 *\n",
      "*        1 *        0 * 7.2684128 *\n",
      "*        1 *        1 * -39.31466 *\n",
      "*        1 *        2 * 0.6788941 *\n",
      "*        1 *        3 *    0.0005 *\n",
      "*        1 *        4 * -7.268412 *\n",
      "*        1 *        5 * 39.314666 *\n",
      "*        1 *        6 * -0.678894 *\n",
      "*        1 *        7 *         0 *\n",
      "*        2 *        0 * 23.255274 *\n",
      "*        2 *        1 * -4.155332 *\n",
      "*        2 *        2 * -30.24351 *\n",
      "*        2 *        3 *    0.0005 *\n",
      "*        2 *        4 * -23.25527 *\n",
      "*        2 *        5 * 4.1553323 *\n",
      "*        2 *        6 * 30.243512 *\n",
      "*        2 *        7 *         0 *\n",
      "*        3 *        0 * -54.22255 *\n",
      "*        3 *        1 * 32.618531 *\n",
      "*        3 *        2 * -11.83104 *\n",
      "*        3 *        3 *    0.0005 *\n",
      "*        3 *        4 * 54.222550 *\n",
      "*        3 *        5 * -32.61853 *\n",
      "*        3 *        6 * 11.831043 *\n",
      "*        3 *        7 *         0 *\n",
      "*        4 *        0 * 45.431163 *\n",
      "*        4 *        1 * 31.329899 *\n",
      "*        4 *        2 * -22.78373 *\n",
      "*        4 *        3 *    0.0005 *\n",
      "*        4 *        4 * -45.43116 *\n",
      "*        4 *        5 * -31.32989 *\n",
      "*        4 *        6 * 22.783733 *\n",
      "*        4 *        7 *         0 *\n",
      "*        5 *        0 * -7.691261 *\n",
      "*        5 *        1 * 9.6817348 *\n",
      "*        5 *        2 * -27.21158 *\n",
      "*        5 *        3 *    0.0005 *\n",
      "*        5 *        4 * 7.6912612 *\n",
      "*        5 *        5 * -9.681734 *\n",
      "*        5 *        6 * 27.211582 *\n",
      "*        5 *        7 *         0 *\n",
      "*        6 *        0 * -8.738246 *\n",
      "*        6 *        1 * 29.046894 *\n",
      "*        6 *        2 * 28.296351 *\n",
      "*        6 *        3 *    0.0005 *\n",
      "*        6 *        4 * 8.7382461 *\n",
      "*        6 *        5 * -29.04689 *\n",
      "*        6 *        6 * -28.29635 *\n",
      "*        6 *        7 *         0 *\n",
      "*        7 *        0 * 12.768854 *\n",
      "*        7 *        1 * -3.786006 *\n",
      "*        7 *        2 * 15.876594 *\n",
      "*        7 *        3 *    0.0005 *\n",
      "*        7 *        4 * -12.76885 *\n",
      "*        7 *        5 * 3.7860066 *\n",
      "*        7 *        6 * -15.87659 *\n",
      "*        7 *        7 *         0 *\n",
      "*        8 *        0 * 0.1615892 *\n",
      "*        8 *        1 * 0.1140638 *\n",
      "*        8 *        2 * 2.6993768 *\n",
      "*        8 *        3 *    0.0005 *\n",
      "*        8 *        4 * -0.161589 *\n",
      "*        8 *        5 * -0.114063 *\n",
      "*        8 *        6 * -2.699376 *\n",
      "*        8 *        7 *         0 *\n",
      "*        9 *        0 * -22.38129 *\n",
      "*        9 *        1 * -19.38623 *\n",
      "*        9 *        2 * -62.11708 *\n",
      "*        9 *        3 *    0.0005 *\n",
      "*        9 *        4 * 22.381291 *\n",
      "*        9 *        5 * 19.386230 *\n",
      "*        9 *        6 * 62.117088 *\n",
      "*        9 *        7 *         0 *\n",
      "***********************************\n"
     ]
    },
    {
     "name": "stderr",
     "output_type": "stream",
     "text": [
      "Type <CR> to continue or q to quit ==> Type <CR> to continue or q to quit ==> Type <CR> to continue or q to quit ==> "
     ]
    }
   ],
   "source": [
    "t.Scan(\"events\")"
   ]
  },
  {
   "cell_type": "code",
   "execution_count": 11,
   "id": "round-receipt",
   "metadata": {},
   "outputs": [
    {
     "data": {
      "text/plain": [
       "385"
      ]
     },
     "execution_count": 11,
     "metadata": {},
     "output_type": "execute_result"
    }
   ],
   "source": [
    "file.Write(\"\",TFile.kOverwrite)"
   ]
  },
  {
   "cell_type": "code",
   "execution_count": 12,
   "id": "subject-neighbor",
   "metadata": {},
   "outputs": [],
   "source": [
    "file.Close()"
   ]
  },
  {
   "cell_type": "markdown",
   "id": "metallic-mainland",
   "metadata": {},
   "source": [
    "# Opening & Reading the File ~ Mirei\n",
    "\n",
    "\n",
    "Pavel sent me the corrected event generation file, so I have made some changes to the file reading code. This is because the structure of how the TLorentzvectors were saved in the file, were changed. "
   ]
  },
  {
   "cell_type": "code",
   "execution_count": 13,
   "id": "sophisticated-cornell",
   "metadata": {},
   "outputs": [],
   "source": [
    "import ROOT \n",
    "import numpy as np\n",
    "from ROOT import TLorentzVector"
   ]
  },
  {
   "cell_type": "code",
   "execution_count": null,
   "id": "noble-hygiene",
   "metadata": {},
   "outputs": [],
   "source": []
  },
  {
   "cell_type": "code",
   "execution_count": 15,
   "id": "expected-coordinator",
   "metadata": {},
   "outputs": [],
   "source": [
    "f=ROOT.TFile.Open(\"Tree.root\",\"READ\") \n",
    "tree=f.Get(\"t\") # where e is the treename"
   ]
  },
  {
   "cell_type": "code",
   "execution_count": 16,
   "id": "stopped-globe",
   "metadata": {},
   "outputs": [],
   "source": [
    "leaves = tree.GetListOfLeaves()\n",
    "\n",
    "# define dynamically a python class containing root Leaves objects\n",
    "class PyListOfLeaves(dict) :\n",
    "    pass\n",
    "\n",
    "# create an istance\n",
    "pyl = PyListOfLeaves()"
   ]
  },
  {
   "cell_type": "code",
   "execution_count": 17,
   "id": "comic-cheese",
   "metadata": {},
   "outputs": [
    {
     "name": "stdout",
     "output_type": "stream",
     "text": [
      "eventsArray\n"
     ]
    }
   ],
   "source": [
    "for i in range(0,leaves.GetEntries() ) :\n",
    "    leaf = leaves.At(i)\n",
    "    name = leaf.GetName()\n",
    "    print(name)\n",
    "    # add dynamically attribute to my class \n",
    "    pyl.__setattr__(name,leaf)"
   ]
  },
  {
   "cell_type": "code",
   "execution_count": 18,
   "id": "tough-drama",
   "metadata": {},
   "outputs": [
    {
     "name": "stdout",
     "output_type": "stream",
     "text": [
      "List of Tlorentz for e: \n",
      " [(-6.305098439795047, -1.712210018046948, 20.919681614454312, 0.0005), (7.268412883277527, -39.31466640772783, 0.6788941582833732, 0.0005), (23.255274166335838, -4.155332326376257, -30.24351250261005, 0.0005), (-54.222550933152554, 32.618531907277834, -11.831043061554574, 0.0005), (45.43116390355864, 31.329899319651037, -22.783733714009493, 0.0005), (-7.691261243502942, 9.681734879571048, -27.21158237662999, 0.0005), (-8.738246108817874, 29.046893956952523, 28.29635099061826, 0.0005), (12.768853989304391, -3.786006677991509, 15.876594738351626, 0.0005), (0.1615892969640428, 0.11406384620664313, 2.6993768656668315, 0.0005), (-22.381291353222505, -19.38623059949777, -62.11708823266101, 0.0005)] \n",
      "\n",
      "List of Tlorentz for n: \n",
      " [(6.305098439795047, 1.712210018046948, -20.919681614454312, 0.0), (-7.268412883277527, 39.31466640772783, -0.6788941582833732, 0.0), (-23.255274166335838, 4.155332326376257, 30.24351250261005, 0.0), (54.222550933152554, -32.618531907277834, 11.831043061554574, 0.0), (-45.43116390355864, -31.329899319651037, 22.783733714009493, 0.0), (7.691261243502942, -9.681734879571048, 27.21158237662999, 0.0), (8.738246108817874, -29.046893956952523, -28.29635099061826, 0.0), (-12.768853989304391, 3.786006677991509, -15.876594738351626, 0.0), (-0.1615892969640428, -0.11406384620664313, -2.6993768656668315, 0.0), (22.381291353222505, 19.38623059949777, 62.11708823266101, 0.0)]\n"
     ]
    }
   ],
   "source": [
    "vector_e=[]\n",
    "vector_n=[]\n",
    "nev=tree.GetEntries() #number of TLorentzVectors in the tree 'e'\n",
    "for iev in range(0,nev) :\n",
    "    tree.GetEntry(iev)\n",
    "    # get values from the tree using Python class pyl which contains leaves\n",
    "    # objects \n",
    "    px_e = pyl.eventsArray.GetValue(0)\n",
    "    py_e = pyl.eventsArray.GetValue(1)\n",
    "    pz_e = pyl.eventsArray.GetValue(2)\n",
    "    Energy_e=pyl.eventsArray.GetValue(3)\n",
    "    \n",
    "    px_n = pyl.eventsArray.GetValue(4)\n",
    "    py_n = pyl.eventsArray.GetValue(5)\n",
    "    pz_n = pyl.eventsArray.GetValue(6)\n",
    "    Energy_n=pyl.eventsArray.GetValue(7)\n",
    "    \n",
    "    vector_e.append((px_e,py_e,pz_e,Energy_e))\n",
    "    vector_n.append((px_n,py_n,pz_n,Energy_n))\n",
    "    \n",
    "    if iev == 20:\n",
    "        break\n",
    "        \n",
    "print(\"List of Tlorentz for e: \\n\",vector_e,\"\\n\")\n",
    "\n",
    "print(\"List of Tlorentz for n: \\n\",vector_n)"
   ]
  },
  {
   "cell_type": "code",
   "execution_count": null,
   "id": "protective-myanmar",
   "metadata": {},
   "outputs": [],
   "source": []
  },
  {
   "cell_type": "code",
   "execution_count": null,
   "id": "capital-offset",
   "metadata": {},
   "outputs": [],
   "source": []
  }
 ],
 "metadata": {
  "kernelspec": {
   "display_name": "Python 3",
   "language": "python",
   "name": "python3"
  },
  "language_info": {
   "codemirror_mode": {
    "name": "ipython",
    "version": 3
   },
   "file_extension": ".py",
   "mimetype": "text/x-python",
   "name": "python",
   "nbconvert_exporter": "python",
   "pygments_lexer": "ipython3",
   "version": "3.8.5"
  }
 },
 "nbformat": 4,
 "nbformat_minor": 5
}
