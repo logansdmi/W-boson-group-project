{
 "cells": [
  {
   "cell_type": "code",
   "execution_count": 1,
   "id": "promising-jumping",
   "metadata": {},
   "outputs": [
    {
     "name": "stdout",
     "output_type": "stream",
     "text": [
      "Welcome to JupyROOT 6.22/06\n"
     ]
    }
   ],
   "source": [
    "import numpy as np\n",
    "import ROOT\n",
    "from ROOT import TLorentzVector"
   ]
  },
  {
   "cell_type": "code",
   "execution_count": 2,
   "id": "lightweight-librarian",
   "metadata": {},
   "outputs": [],
   "source": [
    "#creating the ROOT file and the tTree\n",
    "file = ROOT.TFile(\"WW.root\", \"recreate\")\n",
    "tree = ROOT.TTree(\"wminus\", \"W-Tree\")"
   ]
  },
  {
   "cell_type": "code",
   "execution_count": 3,
   "id": "automotive-dollar",
   "metadata": {},
   "outputs": [
    {
     "data": {
      "text/plain": [
       "<cppyy.gbl.TBranch object at 0x7fffde228830>"
      ]
     },
     "execution_count": 3,
     "metadata": {},
     "output_type": "execute_result"
    }
   ],
   "source": [
    "# initialising the vectors \n",
    "W = TLorentzVector()\n",
    "e= TLorentzVector()\n",
    "\n",
    "# creating the branches in the tree for the vectors to go in\n",
    "tree.Branch(\"W\", W, \"TLorentzVector\")\n",
    "tree.Branch(\"e\", e, \"TLorentzVector\")"
   ]
  },
  {
   "cell_type": "code",
   "execution_count": 4,
   "id": "contained-jewelry",
   "metadata": {},
   "outputs": [
    {
     "name": "stdout",
     "output_type": "stream",
     "text": [
      "******************************************************************************\n",
      "*Tree    :wminus    : W-Tree                                                 *\n",
      "*Entries :        1 : Total =            1628 bytes  File  Size =          0 *\n",
      "*        :          : Tree compression factor =   1.00                       *\n",
      "******************************************************************************\n",
      "*Br    0 :W         : Float_t TLorentzVector                                 *\n",
      "*Entries :        1 : Total  Size=        666 bytes  One basket in memory    *\n",
      "*Baskets :        0 : Basket Size=      32000 bytes  Compression=   1.00     *\n",
      "*............................................................................*\n",
      "*Br    1 :e         : Float_t TLorentzVector                                 *\n",
      "*Entries :        1 : Total  Size=        666 bytes  One basket in memory    *\n",
      "*Baskets :        0 : Basket Size=      32000 bytes  Compression=   1.00     *\n",
      "*............................................................................*\n"
     ]
    }
   ],
   "source": [
    "\n",
    "def thetaPhi():#\n",
    "    '''returns random theta and phi values'''\n",
    "    theta = np.random.uniform(0,2*np.pi)\n",
    "    phi = np.random.uniform(0,np.pi)\n",
    "    return theta, phi\n",
    "\n",
    "def momenta(mag, theta, phi):\n",
    "    '''given an input magnitude, theta and phi the cartesian momenta are returned'''\n",
    "    Px = mag * np.sin(theta) * np.cos(phi) \n",
    "    Py = mag * np.sin(theta) * np.sin(phi)\n",
    "    Pz = mag * np.cos(theta)\n",
    "    \n",
    "    return Px, Py, Pz\n",
    "\n",
    "#momenta magnitude of 1 for now\n",
    "mag = 1\n",
    "# mass of W \n",
    "wMass = 80.3 #GeV/c^2\n",
    "# mass of electron\n",
    "eMass = 0.0005 #GeV/c^2\n",
    "\n",
    "#filling W branch\n",
    "thetaW, phiW = thetaPhi()\n",
    "Px, Py, Pz = momenta(mag, thetaW, phiW)\n",
    "W.SetPxPyPzE(Px, Py, Pz, wMass)\n",
    "\n",
    "#filling e branch\n",
    "thetae, phie = thetaPhi()\n",
    "Px, Py, Pz = momenta(mag, thetae, phie)\n",
    "e.SetPxPyPzE(Px, Py, Pz, eMass)\n",
    "tree.Fill()\n",
    "tree.Print()\n",
    "\n",
    "# file has to be written to  and closed \n",
    "# this is probably so it saves correctly\n",
    "file.Write()\n",
    "file.Close()\n"
   ]
  },
  {
   "cell_type": "code",
   "execution_count": 7,
   "id": "devoted-sally",
   "metadata": {},
   "outputs": [
    {
     "name": "stdout",
     "output_type": "stream",
     "text": [
      "-0.28155820507415386\n",
      "0.9495056158801733\n",
      "-0.1384343258279305\n",
      "80.3\n",
      "80.2937731085045\n"
     ]
    }
   ],
   "source": [
    "#print(tree.W.Px())\n",
    "# print out components of the  w lorentz vector\n",
    "print(W.Px())\n",
    "print(W.Py())\n",
    "print(W.Pz())\n",
    "print(W.E())\n",
    "\n",
    "# print the magnitude of the lorentz vector\n",
    "print(W.Mag())"
   ]
  },
  {
   "cell_type": "markdown",
   "id": "developing-fusion",
   "metadata": {},
   "source": [
    "This stuff is an attempt at reading the lorentzvectors but i dont know how to get the return value as a vector not a float."
   ]
  },
  {
   "cell_type": "code",
   "execution_count": 21,
   "id": "accompanied-irrigation",
   "metadata": {},
   "outputs": [
    {
     "name": "stdout",
     "output_type": "stream",
     "text": [
      "0.0\n",
      "******************************************************************************\n",
      "*Tree    :wminus    : W-Tree                                                 *\n",
      "*Entries :        1 : Total =            1510 bytes  File  Size =        571 *\n",
      "*        :          : Tree compression factor =   1.00                       *\n",
      "******************************************************************************\n",
      "*Br    0 :W         : Float_t TLorentzVector                                 *\n",
      "*Entries :        1 : Total  Size=        580 bytes  File Size  =         74 *\n",
      "*Baskets :        1 : Basket Size=      32000 bytes  Compression=   1.00     *\n",
      "*............................................................................*\n",
      "*Br    1 :e         : Float_t TLorentzVector                                 *\n",
      "*Entries :        1 : Total  Size=        580 bytes  File Size  =         74 *\n",
      "*Baskets :        1 : Basket Size=      32000 bytes  Compression=   1.00     *\n",
      "*............................................................................*\n"
     ]
    }
   ],
   "source": [
    "# read in file and get tree\n",
    "inFile = ROOT.TFile.Open(\"WW.root\" ,\" READ \")\n",
    "tree = inFile.Get('wminus')\n",
    "\n",
    "\n",
    "#inFile.ls()\n",
    "# prints whats in tree\n",
    "tree.Print()\n",
    "\n",
    "# this stuff i found online but idk what it does\n",
    "tree.SetBranchStatus( '*', 0 )\n",
    "tree.SetBranchStatus('W',1)\n",
    "tree.W = TLorentzVector()\n",
    "tree.SetBranchAddress('W', tree.W)\n",
    "\n",
    "for entryNum in range(0 , tree.GetEntries ()):\n",
    "    tree.GetEntry( entryNum )\n",
    "    \n",
    "    \n",
    "# this doesnt return the correct value?\n",
    "print(tree.W.Px())\n"
   ]
  },
  {
   "cell_type": "code",
   "execution_count": null,
   "id": "thick-ranking",
   "metadata": {},
   "outputs": [],
   "source": []
  }
 ],
 "metadata": {
  "kernelspec": {
   "display_name": "Python 3",
   "language": "python",
   "name": "python3"
  },
  "language_info": {
   "codemirror_mode": {
    "name": "ipython",
    "version": 3
   },
   "file_extension": ".py",
   "mimetype": "text/x-python",
   "name": "python",
   "nbconvert_exporter": "python",
   "pygments_lexer": "ipython3",
   "version": "3.8.6"
  }
 },
 "nbformat": 4,
 "nbformat_minor": 5
}
