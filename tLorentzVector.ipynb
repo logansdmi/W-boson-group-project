{
 "cells": [
  {
   "cell_type": "code",
   "execution_count": 1,
   "id": "promising-jumping",
   "metadata": {},
   "outputs": [
    {
     "name": "stdout",
     "output_type": "stream",
     "text": [
      "Welcome to JupyROOT 6.22/06\n"
     ]
    }
   ],
   "source": [
    "import numpy as np\n",
    "import ROOT\n",
    "from ROOT import TLorentzVector"
   ]
  },
  {
   "cell_type": "code",
   "execution_count": 2,
   "id": "lightweight-librarian",
   "metadata": {},
   "outputs": [],
   "source": [
    "#creating the ROOT file and the tTree\n",
    "file = ROOT.TFile(\"WW.root\", \"recreate\")\n",
    "tree1 = ROOT.TTree(\"wminus\", \"W-Tree\")\n",
    "tree2 = ROOT.TTree(\"wplus\", \"W+Tree\")"
   ]
  },
  {
   "cell_type": "code",
   "execution_count": 3,
   "id": "automotive-dollar",
   "metadata": {},
   "outputs": [
    {
     "data": {
      "text/plain": [
       "<cppyy.gbl.TBranch object at 0x7ffff844cb70>"
      ]
     },
     "execution_count": 3,
     "metadata": {},
     "output_type": "execute_result"
    }
   ],
   "source": [
    "# initialising the vectors \n",
    "Wminus = TLorentzVector()\n",
    "e1 = TLorentzVector()\n",
    "n1 = TLorentzVector()\n",
    "# creating the branches in the tree for the vectors to go in\n",
    "tree1.Branch(\"Wminus\", Wminus, \"TLorentzVector\")\n",
    "tree1.Branch(\"e1\", e1, \"TLorentzVector\")\n",
    "tree1.Branch(\"n1\", n1, \"TLorentzVector\")\n",
    "\n",
    "Wplus = TLorentzVector()\n",
    "e2 = TLorentzVector()\n",
    "n2 = TLorentzVector()\n",
    "# creating the branches in the tree for the vectors to go in\n",
    "tree2.Branch(\"Wplus\", Wplus, \"TLorentzVector\")\n",
    "tree2.Branch(\"e2\", e2, \"TLorentzVector\")\n",
    "tree2.Branch(\"n2\", n2, \"TLorentzVector\")\n"
   ]
  },
  {
   "cell_type": "code",
   "execution_count": 4,
   "id": "contained-jewelry",
   "metadata": {},
   "outputs": [
    {
     "name": "stdout",
     "output_type": "stream",
     "text": [
      "******************************************************************************\n",
      "*Tree    :wminus    : W-Tree                                                 *\n",
      "*Entries :       10 : Total =            2420 bytes  File  Size =          0 *\n",
      "*        :          : Tree compression factor =   1.00                       *\n",
      "******************************************************************************\n",
      "*Br    0 :Wminus    : Float_t TLorentzVector                                 *\n",
      "*Entries :       10 : Total  Size=        717 bytes  One basket in memory    *\n",
      "*Baskets :        0 : Basket Size=      32000 bytes  Compression=   1.00     *\n",
      "*............................................................................*\n",
      "*Br    1 :e1        : Float_t TLorentzVector                                 *\n",
      "*Entries :       10 : Total  Size=        705 bytes  One basket in memory    *\n",
      "*Baskets :        0 : Basket Size=      32000 bytes  Compression=   1.00     *\n",
      "*............................................................................*\n",
      "*Br    2 :n1        : Float_t TLorentzVector                                 *\n",
      "*Entries :       10 : Total  Size=        705 bytes  One basket in memory    *\n",
      "*Baskets :        0 : Basket Size=      32000 bytes  Compression=   1.00     *\n",
      "*............................................................................*\n",
      "******************************************************************************\n",
      "*Tree    :wplus     : W+Tree                                                 *\n",
      "*Entries :       10 : Total =            2410 bytes  File  Size =          0 *\n",
      "*        :          : Tree compression factor =   1.00                       *\n",
      "******************************************************************************\n",
      "*Br    0 :Wplus     : Float_t TLorentzVector                                 *\n",
      "*Entries :       10 : Total  Size=        712 bytes  One basket in memory    *\n",
      "*Baskets :        0 : Basket Size=      32000 bytes  Compression=   1.00     *\n",
      "*............................................................................*\n",
      "*Br    1 :e2        : Float_t TLorentzVector                                 *\n",
      "*Entries :       10 : Total  Size=        703 bytes  One basket in memory    *\n",
      "*Baskets :        0 : Basket Size=      32000 bytes  Compression=   1.00     *\n",
      "*............................................................................*\n",
      "*Br    2 :n2        : Float_t TLorentzVector                                 *\n",
      "*Entries :       10 : Total  Size=        703 bytes  One basket in memory    *\n",
      "*Baskets :        0 : Basket Size=      32000 bytes  Compression=   1.00     *\n",
      "*............................................................................*\n"
     ]
    }
   ],
   "source": [
    "\n",
    "def thetaPhi():#\n",
    "    '''returns random theta and phi values'''\n",
    "    theta = np.random.uniform(0,2*np.pi)\n",
    "    phi = np.random.uniform(0,np.pi)\n",
    "    return theta, phi\n",
    "\n",
    "def momenta(mag, theta, phi):\n",
    "    '''given an input magnitude, theta and phi the cartesian momenta are returned'''\n",
    "    Px = mag * np.sin(theta) * np.cos(phi) \n",
    "    Py = mag * np.sin(theta) * np.sin(phi)\n",
    "    Pz = mag * np.cos(theta)\n",
    "    \n",
    "    return Px, Py, Pz\n",
    "\n",
    "#boost the z for the W \n",
    "\n",
    "\n",
    "# make back to back W\n",
    "\n",
    "\n",
    "\n",
    "#momenta magnitude of 1 for now\n",
    "mag = 1\n",
    "# mass of W \n",
    "wMass = 80.3 #GeV/c^2\n",
    "# mass of electron\n",
    "eMass = 0.0005 #GeV/c^2\n",
    "\n",
    "nMass = 0\n",
    "\n",
    "\n",
    "for i in range(10):\n",
    "    #filling W- branch\n",
    "    Wminus.SetPxPyPzE(0,0,0, wMass)\n",
    "    #filling W+ branch\n",
    "    Wplus.SetPxPyPzE(0,0,0, wMass)\n",
    "\n",
    "    #filling e1 branch\n",
    "    thetae, phie = thetaPhi()\n",
    "    mag = np.random.uniform(0,80)\n",
    "    Px, Py, Pz = momenta(mag, thetae, phie)\n",
    "    e1.SetPxPyPzE(Px, Py, Pz, eMass)\n",
    "    #filling neutrino branches\n",
    "    n1 = Wminus - e1\n",
    "    n1.SetE(nMass)\n",
    "    \n",
    "    #filling e2 branch\n",
    "    thetae, phie = thetaPhi()\n",
    "    mag = np.random.uniform(0,80)\n",
    "    Px, Py, Pz = momenta(mag, thetae, phie)\n",
    "    e2.SetPxPyPzE(Px, Py, Pz, eMass)\n",
    "    #filling neutrino branches\n",
    "    n2 = Wplus - e2\n",
    "    n2.SetE(nMass)\n",
    "    \n",
    "\n",
    "    tree1.Fill()\n",
    "    tree2.Fill()\n",
    "    \n",
    "#Wminus.Boost(0,80,0)\n",
    "\n",
    "#writing to the trees\n",
    "tree1.Print()\n",
    "tree2.Print()\n",
    "\n",
    "# file has to be written to  and closed \n",
    "# this is probably so it saves correctly\n",
    "file.Write()\n",
    "file.Close()\n"
   ]
  },
  {
   "cell_type": "code",
   "execution_count": null,
   "id": "functional-agenda",
   "metadata": {},
   "outputs": [],
   "source": []
  },
  {
   "cell_type": "code",
   "execution_count": 8,
   "id": "devoted-sally",
   "metadata": {},
   "outputs": [
    {
     "name": "stdout",
     "output_type": "stream",
     "text": [
      "0.0005\n",
      "-43.42763591301523\n",
      "30.843472318466315\n",
      "nan\n",
      "nan\n",
      "nan\n"
     ]
    }
   ],
   "source": [
    "#print(tree.W.Px())\n",
    "# print out components of the  w lorentz vector\n",
    "#Wminus.Boost(0.0,0.0,3.0)\n",
    "b = e1.BoostVector()\n",
    "Wminus.Boost(b)\n",
    "print(e1.E())\n",
    "print(n1.Mag())\n",
    "\n",
    "print(n1.Py())\n",
    "print(Wminus.Pz())\n",
    "print(Wminus.E())\n",
    "\n",
    "# print the magnitude of the lorentz vector\n",
    "print(Wminus.Mag())"
   ]
  },
  {
   "cell_type": "markdown",
   "id": "developing-fusion",
   "metadata": {},
   "source": [
    "This stuff is an attempt at reading the lorentzvectors but i dont know how to get the return value as a vector not a float."
   ]
  },
  {
   "cell_type": "code",
   "execution_count": 6,
   "id": "accompanied-irrigation",
   "metadata": {},
   "outputs": [
    {
     "name": "stdout",
     "output_type": "stream",
     "text": [
      "-1.933427805047289\n",
      "1.933427805047289\n",
      "TFile**\t\tWW.root\t\n",
      " TFile*\t\tWW.root\t\n",
      "  OBJ: TTree\twminus\tW-Tree : 0 at: 0x7ffff889d190\n",
      "  OBJ: TTree\twplus\tW+Tree : 0 at: 0x7ffff84f5270\n",
      "  KEY: TTree\twminus;1\tW-Tree\n",
      "  KEY: TTree\twplus;1\tW+Tree\n",
      "******************************************************************************\n",
      "*Tree    :wminus    : W-Tree                                                 *\n",
      "*Entries :       10 : Total =            2217 bytes  File  Size =        774 *\n",
      "*        :          : Tree compression factor =   1.17                       *\n",
      "******************************************************************************\n",
      "*Br    0 :Wminus    : Float_t TLorentzVector                                 *\n",
      "*Entries :       10 : Total  Size=        626 bytes  File Size  =         99 *\n",
      "*Baskets :        1 : Basket Size=      32000 bytes  Compression=   1.16     *\n",
      "*............................................................................*\n",
      "*Br    1 :e1        : Float_t TLorentzVector                                 *\n",
      "*Entries :       10 : Total  Size=        618 bytes  File Size  =         95 *\n",
      "*Baskets :        1 : Basket Size=      32000 bytes  Compression=   1.17     *\n",
      "*............................................................................*\n",
      "*Br    2 :n1        : Float_t TLorentzVector                                 *\n",
      "*Entries :       10 : Total  Size=        618 bytes  File Size  =         95 *\n",
      "*Baskets :        1 : Basket Size=      32000 bytes  Compression=   1.17     *\n",
      "*............................................................................*\n"
     ]
    }
   ],
   "source": [
    "# read in file and get tree\n",
    "inFile = ROOT.TFile.Open(\"WW.root\" ,\" READ \")\n",
    "tree1 = inFile.Get('wminus')\n",
    "tree2 = inFile.Get('wplus')\n",
    "\n",
    "ROOT.ROOT.EnableImplicitMT()\n",
    "\n",
    "\n",
    "\n",
    "inFile.ls()\n",
    "# prints whats in tree\n",
    "\n",
    "tree1.Print()\n",
    "#tree2.Print()\n",
    "\n",
    "# this stuff i found online but idk what it does\n",
    "tree1.SetBranchStatus( '*', 0 )\n",
    "tree1.SetBranchStatus('e1',1)\n",
    "tree1.e1 = TLorentzVector()\n",
    "tree1.n1 = TLorentzVector()\n",
    "tree1.SetBranchAddress('e1', tree1.e1)\n",
    "\n",
    "for entryNum in range(0 , tree1.GetEntries ()):\n",
    "    tree1.GetEntry( entryNum )\n",
    "    \n",
    "print(e1.Px())\n",
    "# this doesnt return the correct value?\n",
    "print(n1.Px())\n"
   ]
  },
  {
   "cell_type": "code",
   "execution_count": null,
   "id": "thick-ranking",
   "metadata": {},
   "outputs": [],
   "source": []
  }
 ],
 "metadata": {
  "kernelspec": {
   "display_name": "Python 3",
   "language": "python",
   "name": "python3"
  },
  "language_info": {
   "codemirror_mode": {
    "name": "ipython",
    "version": 3
   },
   "file_extension": ".py",
   "mimetype": "text/x-python",
   "name": "python",
   "nbconvert_exporter": "python",
   "pygments_lexer": "ipython3",
   "version": "3.8.6"
  }
 },
 "nbformat": 4,
 "nbformat_minor": 5
}
