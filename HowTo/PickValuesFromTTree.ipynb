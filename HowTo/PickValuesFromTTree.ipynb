{
 "cells": [
  {
   "cell_type": "code",
   "execution_count": 1,
   "id": "golden-radical",
   "metadata": {},
   "outputs": [
    {
     "name": "stdout",
     "output_type": "stream",
     "text": [
      "Welcome to JupyROOT 6.22/06\n"
     ]
    }
   ],
   "source": [
    "import ROOT as r\n",
    "import numpy as np"
   ]
  },
  {
   "cell_type": "markdown",
   "id": "surrounded-christmas",
   "metadata": {},
   "source": [
    "These two cells just read the file and get a TTree from it."
   ]
  },
  {
   "cell_type": "code",
   "execution_count": 2,
   "id": "stopped-split",
   "metadata": {},
   "outputs": [
    {
     "name": "stderr",
     "output_type": "stream",
     "text": [
      "Warning in <TFile::Init>: file generatedComponentsBOOST.root probably not closed, trying to recover\n",
      "Info in <TFile::Recover>: generatedComponentsBOOST.root, recovered key TTree:tree at address 1042\n",
      "Warning in <TFile::Init>: successfully recovered 1 keys\n"
     ]
    }
   ],
   "source": [
    "# You need to be in the same folder as the .root file you want to read\n",
    "file = r.TFile(\"generatedComponentsBOOST.root\",\"READ\")\n",
    "tree = file.Get(\"tree\") # Getting the tree "
   ]
  },
  {
   "cell_type": "code",
   "execution_count": 3,
   "id": "funny-words",
   "metadata": {},
   "outputs": [
    {
     "data": {
      "text/plain": [
       "4"
      ]
     },
     "execution_count": 3,
     "metadata": {},
     "output_type": "execute_result"
    }
   ],
   "source": [
    "# Initializing 4-element array to store 4-vectors\n",
    "wArr = np.zeros(4)\n",
    "eArr = np.zeros(4)\n",
    "\n",
    "# Taking already filled branches from the file\n",
    "# Now we need to add another branch for neutrino\n",
    "tree.SetBranchAddress(\"wBoson\", wArr)\n",
    "tree.SetBranchAddress(\"electron\", eArr)"
   ]
  },
  {
   "cell_type": "markdown",
   "id": "recent-supervision",
   "metadata": {},
   "source": [
    "Now we can play with the TTree... :)"
   ]
  },
  {
   "cell_type": "code",
   "execution_count": 4,
   "id": "analyzed-fault",
   "metadata": {},
   "outputs": [
    {
     "data": {
      "text/plain": [
       "40"
      ]
     },
     "execution_count": 4,
     "metadata": {},
     "output_type": "execute_result"
    },
    {
     "name": "stdout",
     "output_type": "stream",
     "text": [
      "***********************************************\n",
      "*    Row   * Instance * wBoson.wB * electron. *\n",
      "***********************************************\n",
      "*        0 *        0 *         0 * -8.213797 *\n",
      "*        0 *        1 *         0 * -1.759209 *\n",
      "*        0 *        2 * 8.0704536 * -35.42401 *\n",
      "*        0 *        3 * 80.704536 * 36.406344 *\n",
      "*        1 *        0 *         0 * -29.09737 *\n",
      "*        1 *        1 *         0 * 0.0803621 *\n",
      "*        1 *        2 * 8.0704536 * 31.839719 *\n",
      "*        1 *        3 * 80.704536 * 43.132717 *\n",
      "*        2 *        0 *         0 * 7.4278055 *\n",
      "*        2 *        1 *         0 * 12.739963 *\n",
      "*        2 *        2 * 8.0704536 * 41.566944 *\n",
      "*        2 *        3 * 80.704536 * 44.105440 *\n",
      "*        3 *        0 *         0 * 26.676696 *\n",
      "*        3 *        1 *         0 * 21.659858 *\n",
      "*        3 *        2 * 8.0704536 * -16.83539 *\n",
      "*        3 *        3 * 80.704536 * 38.265206 *\n",
      "*        4 *        0 *         0 * 16.748908 *\n",
      "*        4 *        1 *         0 * -33.34872 *\n",
      "*        4 *        2 * 8.0704536 * -10.85015 *\n",
      "*        4 *        3 * 80.704536 * 38.863729 *\n",
      "*        5 *        0 *         0 * 12.705228 *\n",
      "*        5 *        1 *         0 * -18.42023 *\n",
      "*        5 *        2 * 8.0704536 * -29.46880 *\n",
      "*        5 *        3 * 80.704536 * 37.001865 *\n",
      "*        6 *        0 *         0 * 34.045942 *\n",
      "*        6 *        1 *         0 * 11.880758 *\n",
      "*        6 *        2 * 8.0704536 * 21.780446 *\n",
      "*        6 *        3 * 80.704536 * 42.126790 *\n",
      "*        7 *        0 *         0 * 10.365490 *\n",
      "*        7 *        1 *         0 * -1.620141 *\n",
      "*        7 *        2 * 8.0704536 * -34.91506 *\n",
      "*        7 *        3 * 80.704536 * 36.457238 *\n",
      "*        8 *        0 *         0 * 13.115256 *\n",
      "*        8 *        1 *         0 *  -37.9447 *\n",
      "*        8 *        2 * 8.0704536 * 3.5721404 *\n",
      "*        8 *        3 * 80.704536 * 40.305959 *\n",
      "*        9 *        0 *         0 * -21.97499 *\n",
      "*        9 *        1 *         0 * 10.908147 *\n",
      "*        9 *        2 * 8.0704536 * -27.90749 *\n",
      "*        9 *        3 * 80.704536 * 37.157995 *\n",
      "***********************************************\n"
     ]
    },
    {
     "name": "stderr",
     "output_type": "stream",
     "text": [
      "Type <CR> to continue or q to quit ==> "
     ]
    }
   ],
   "source": [
    "# Showing the whole structure of the TTree\n",
    "tree.Scan()"
   ]
  },
  {
   "cell_type": "code",
   "execution_count": 5,
   "id": "distinguished-hypothetical",
   "metadata": {},
   "outputs": [
    {
     "data": {
      "text/plain": [
       "64"
      ]
     },
     "execution_count": 5,
     "metadata": {},
     "output_type": "execute_result"
    }
   ],
   "source": [
    "# If you want to get any event, just take the row number(e.g. 1) \n",
    "# and start with this command:\n",
    "tree.GetEntry(1)"
   ]
  },
  {
   "cell_type": "code",
   "execution_count": 8,
   "id": "floating-affairs",
   "metadata": {},
   "outputs": [
    {
     "name": "stdout",
     "output_type": "stream",
     "text": [
      "-29.097373120467797\n"
     ]
    }
   ],
   "source": [
    "# Now we are in the 1st row of the TTree\n",
    "# Now we can print whatever value we want\n",
    "# ...\n",
    "# 1. Start the command with the name of our tree\n",
    "# 2. Then we need to write .GetListOfLeaves()\n",
    "#    This just gives us all the values in the row, I suppose (not sure)\n",
    "# 3. We have two columns and they are numbered as 0,1,2,...\n",
    "#    so if you want to choose the second column (electron),\n",
    "#    just add .At(1)\n",
    "# 4. Now you have to choose one of the 4 components in the branch entry\n",
    "#    finish the command with .GetValue(0), to get the Px component (instance 0) \n",
    "print(tree.GetListOfLeaves().At(1).GetValue(0))"
   ]
  },
  {
   "cell_type": "code",
   "execution_count": 7,
   "id": "usual-america",
   "metadata": {},
   "outputs": [
    {
     "name": "stdout",
     "output_type": "stream",
     "text": [
      "10\n"
     ]
    }
   ],
   "source": [
    "n = tree.GetEntries() # This tells you the total number of rows, in this case it should be 10\n",
    "print(n)"
   ]
  },
  {
   "cell_type": "markdown",
   "id": "framed-connecticut",
   "metadata": {},
   "source": [
    "You can play with it and check the corresponding values in the scanned TTree above.\n",
    "If you want to iterate through all the entries, you can do something like in the codes for minimization.\n",
    "\n",
    "The example below won't work, it's just to show how we can iterate throught the TTree."
   ]
  },
  {
   "cell_type": "code",
   "execution_count": null,
   "id": "minor-malawi",
   "metadata": {},
   "outputs": [],
   "source": [
    "for i in range(n):\n",
    "    tree.GetEntry(i)\n",
    "    ePx = tree.GetListOfLeaves().At(1).GetValue(0)\n",
    "    ePy = tree.GetListOfLeaves().At(1).GetValue(1)\n",
    "    \n",
    "    nArr[0] = -ePx\n",
    "    nArr[1] = -ePy\n",
    "    nArr[2] = r.minimization_func(wArr, eArr)\n",
    "    nArr[3] = r.TMath.Sqrt(nArr[0]**2 + nArr[1]**2 + nArr[2]**2)\n",
    "    \n",
    "    tree.GetBranch(\"neutrino\").Fill() # Filling just \"neutrino\" branch"
   ]
  }
 ],
 "metadata": {
  "kernelspec": {
   "display_name": "Python 3",
   "language": "python",
   "name": "python3"
  },
  "language_info": {
   "codemirror_mode": {
    "name": "ipython",
    "version": 3
   },
   "file_extension": ".py",
   "mimetype": "text/x-python",
   "name": "python",
   "nbconvert_exporter": "python",
   "pygments_lexer": "ipython3",
   "version": "3.8.5"
  }
 },
 "nbformat": 4,
 "nbformat_minor": 5
}
