{
 "cells": [
  {
   "cell_type": "code",
   "execution_count": 1,
   "id": "swedish-sport",
   "metadata": {},
   "outputs": [
    {
     "name": "stdout",
     "output_type": "stream",
     "text": [
      "Welcome to JupyROOT 6.22/06\n"
     ]
    }
   ],
   "source": [
    "import ROOT as r\n",
    "import numpy as np"
   ]
  },
  {
   "cell_type": "markdown",
   "id": "central-communication",
   "metadata": {},
   "source": [
    "Function below are defined with the help of `momentumFunc.ipynb` on GitHub."
   ]
  },
  {
   "cell_type": "code",
   "execution_count": 2,
   "id": "domestic-suspect",
   "metadata": {},
   "outputs": [],
   "source": [
    "def thetaPhi():\n",
    "    '''returns random theta and phi values'''\n",
    "    \n",
    "    theta = np.random.uniform(0,2*np.pi)\n",
    "    phi = np.random.uniform(0,np.pi)\n",
    "    return theta, phi\n",
    "\n",
    "def momenta(mag, theta, phi):\n",
    "    '''given an input magnitude, theta and phi the cartesian momenta are returned'''\n",
    "    \n",
    "    Px = mag * np.sin(theta) * np.cos(phi) \n",
    "    Py = mag * np.sin(theta) * np.sin(phi)\n",
    "    Pz = mag * np.cos(theta)\n",
    "    \n",
    "    return Px, Py, Pz\n",
    "\n",
    "def fVector(g, theta, phi, mag, mass):\n",
    "    '''given a tlorentzvector g the cartesian components are set with the spherical components and the mass'''\n",
    "    \n",
    "    Px, Py, Pz = momenta(mag, theta, phi)\n",
    "    g.SetPxPyPzE(Px, Py, Pz, mass)"
   ]
  },
  {
   "cell_type": "markdown",
   "id": "modified-namibia",
   "metadata": {},
   "source": [
    "Following function is also taken from the same file, but just simplified to generate only electron components. The `lorV` is a TLorentzVector, later defined. It can probably be written more efficiently."
   ]
  },
  {
   "cell_type": "code",
   "execution_count": 3,
   "id": "pleased-version",
   "metadata": {},
   "outputs": [],
   "source": [
    "def components(num):\n",
    "    ''' given a number of events wanted, returns arrays of the components of the electron\n",
    "        after decaying from stationary W boson.\n",
    "    '''\n",
    "    \n",
    "    #initialising arrays for components\n",
    "    ePx = np.zeros(num)\n",
    "    ePy = np.zeros(num)\n",
    "    ePz = np.zeros(num)    \n",
    "    \n",
    "    # looping over number of events and filling component arrays\n",
    "    for i in range(num):\n",
    "        #making e components\n",
    "        thetae, phie = thetaPhi()\n",
    "        fVector(lorV, thetae, phie, 40.15, 40.15)\n",
    "        \n",
    "        ePx[i] = lorV.Px()\n",
    "        ePy[i] = lorV.Py()\n",
    "        ePz[i] = lorV.Pz()\n",
    "        \n",
    "    return ePx, ePy, ePz"
   ]
  },
  {
   "cell_type": "markdown",
   "id": "detailed-barrier",
   "metadata": {},
   "source": [
    "The only useful TLorentzVector is `lorV` as we use it to generate given number of electron 3Vectors. The rest is just there, so we can be consistent with more complicated case where we will need all of the TLorentzVectors."
   ]
  },
  {
   "cell_type": "code",
   "execution_count": 4,
   "id": "mysterious-arthritis",
   "metadata": {},
   "outputs": [],
   "source": [
    "w4v = r.TLorentzVector()\n",
    "el4v = r.TLorentzVector()\n",
    "lorV = r.TLorentzVector()"
   ]
  },
  {
   "cell_type": "markdown",
   "id": "previous-somerset",
   "metadata": {},
   "source": [
    "Generating 1000 different cases."
   ]
  },
  {
   "cell_type": "code",
   "execution_count": 5,
   "id": "electoral-alabama",
   "metadata": {},
   "outputs": [],
   "source": [
    "ePx,ePy,ePz = components(10000)"
   ]
  },
  {
   "cell_type": "markdown",
   "id": "invalid-newport",
   "metadata": {},
   "source": [
    "Now we set up tree and branches. We store 4-element arrays into branches. Each branch is one particle. For each event, there will be 2 branches (W boson and Electron), and each branch will have 4 entries (Px,Py,Pz,E). "
   ]
  },
  {
   "cell_type": "code",
   "execution_count": 6,
   "id": "maritime-hypothesis",
   "metadata": {},
   "outputs": [
    {
     "data": {
      "text/plain": [
       "<cppyy.gbl.TBranch object at 0x752b890>"
      ]
     },
     "execution_count": 6,
     "metadata": {},
     "output_type": "execute_result"
    }
   ],
   "source": [
    "tree = r.TTree(\"tree\", \"initial random e and n components\")\n",
    "\n",
    "wArr = np.zeros(4)\n",
    "eArr = np.zeros(4)\n",
    "\n",
    "tree.Branch(\"wBoson\",wArr,\"wArray[4]/D\")\n",
    "tree.Branch(\"electron\",eArr,\"elArray[4]/D\")"
   ]
  },
  {
   "cell_type": "markdown",
   "id": "surrounded-gardening",
   "metadata": {},
   "source": [
    "Following code will assign values to our arrays and then fills them into branches."
   ]
  },
  {
   "cell_type": "code",
   "execution_count": 7,
   "id": "professional-video",
   "metadata": {},
   "outputs": [],
   "source": [
    "wArr[3] = 80.3\n",
    "eArr[3] = wArr[3]/2\n",
    "\n",
    "for i in range(len(ePx)):\n",
    "    \n",
    "    eArr[0] = ePx[i]\n",
    "    eArr[1] = ePy[i]\n",
    "    eArr[2] = ePz[i]\n",
    "   \n",
    "    tree.Fill()"
   ]
  },
  {
   "cell_type": "code",
   "execution_count": 8,
   "id": "ultimate-america",
   "metadata": {},
   "outputs": [],
   "source": [
    "# Tree in form:\n",
    "# Row     Instance   W boson    electron\n",
    "# e.g.:\n",
    "# 0       0 (=Px)        ...      ...\n",
    "# 0       1 (=Py)        ...      ...\n",
    "# 0       2 (=Pz)        ...      ...\n",
    "# 0       3 (=E)         ...      ...\n",
    "#tree.Scan() "
   ]
  },
  {
   "cell_type": "markdown",
   "id": "cubic-herald",
   "metadata": {},
   "source": [
    "This code creates a file and writes a tree into it."
   ]
  },
  {
   "cell_type": "code",
   "execution_count": 9,
   "id": "partial-symposium",
   "metadata": {},
   "outputs": [
    {
     "data": {
      "text/plain": [
       "<cppyy.CPPOverload at 0x7f26caa98640>"
      ]
     },
     "execution_count": 9,
     "metadata": {},
     "output_type": "execute_result"
    }
   ],
   "source": [
    "file = r.TFile(\"generatedComponents.root\",\"recreate\")\n",
    "tree.Write()\n",
    "file.Close"
   ]
  },
  {
   "cell_type": "code",
   "execution_count": null,
   "id": "demographic-broadcast",
   "metadata": {},
   "outputs": [],
   "source": []
  }
 ],
 "metadata": {
  "kernelspec": {
   "display_name": "Python 3",
   "language": "python",
   "name": "python3"
  },
  "language_info": {
   "codemirror_mode": {
    "name": "ipython",
    "version": 3
   },
   "file_extension": ".py",
   "mimetype": "text/x-python",
   "name": "python",
   "nbconvert_exporter": "python",
   "pygments_lexer": "ipython3",
   "version": "3.8.5"
  }
 },
 "nbformat": 4,
 "nbformat_minor": 5
}
