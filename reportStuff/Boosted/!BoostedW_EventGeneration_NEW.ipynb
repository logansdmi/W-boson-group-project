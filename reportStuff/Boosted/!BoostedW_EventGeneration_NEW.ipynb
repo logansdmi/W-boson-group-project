{
 "cells": [
  {
   "cell_type": "code",
   "execution_count": 1,
   "id": "friendly-institute",
   "metadata": {},
   "outputs": [
    {
     "name": "stdout",
     "output_type": "stream",
     "text": [
      "Welcome to JupyROOT 6.22/06\n"
     ]
    }
   ],
   "source": [
    "import ROOT as r\n",
    "import numpy as np"
   ]
  },
  {
   "cell_type": "markdown",
   "id": "similar-parker",
   "metadata": {},
   "source": [
    "Firstly, it is necessary to define function which are used in the code later. See their description below."
   ]
  },
  {
   "cell_type": "code",
   "execution_count": 2,
   "id": "patient-cleaners",
   "metadata": {},
   "outputs": [],
   "source": [
    "def thetaPhi():\n",
    "    '''returns random theta and phi values'''\n",
    "    theta = np.random.uniform(0,np.pi)\n",
    "    phi = np.random.uniform(0,2*np.pi)\n",
    "    return theta, phi\n",
    "\n",
    "def momenta(mag, theta, phi):\n",
    "    '''given an input magnitude, theta and phi the cartesian momenta are returned'''\n",
    "    Px = mag * np.sin(phi) * np.cos(theta) \n",
    "    Py = mag * np.sin(phi) * np.sin(theta)\n",
    "    Pz = mag * np.cos(phi)\n",
    "    \n",
    "    return Px, Py, Pz\n",
    "    \n",
    "\n",
    "def wArr(num):\n",
    "    '''just for making numpy array of stationary w given the number of events'''\n",
    "    momenta = np.zeros([num,4])\n",
    "    momenta[:,3] = wMass\n",
    "    \n",
    "    return momenta\n",
    "\n",
    "def vecToArr(vec):\n",
    "    '''converts lorentzvector to array of components'''\n",
    "    arr = np.zeros([4])\n",
    "    arr[0] = vec.Px()\n",
    "    arr[1] = vec.Py()\n",
    "    arr[2] = vec.Pz()\n",
    "    arr[3] = vec.E()\n",
    "    \n",
    "    return arr\n",
    "\n",
    "def boostedW():\n",
    "    '''produces numpy array of 4 momenta of w decay into electron and neutrino under a normally \n",
    "    distributed boost in z direction'''\n",
    "    # defining constants\n",
    "    event = np.zeros([3,4])\n",
    "    wMass = 80.3\n",
    "    eE = wMass / 2\n",
    "    \n",
    "    # making particles in w rest frame\n",
    "    thetae, phie = thetaPhi()\n",
    "    Px, Py, Pz = momenta(eE, thetae, phie)\n",
    "    w = r.Math.LorentzVector('ROOT::Math::PxPyPzE4D<double>')(0,0,0, wMass)\n",
    "    e = r.Math.LorentzVector('ROOT::Math::PxPyPzE4D<double>')(Px, Py, Pz, eE)\n",
    "    n = r.Math.LorentzVector('ROOT::Math::PxPyPzE4D<double>')(-Px, -Py, -Pz, eE)\n",
    "    \n",
    "    # applying boost to all particles\n",
    "    beta = np.random.normal(0,0.1) # beta (v/c) is normally distributed centred on 0 with width 0.1\n",
    "    boostedW = r.Math.VectorUtil.boostZ(w, beta)\n",
    "    wArr = vecToArr(boostedW)\n",
    "    \n",
    "    boostedE = r.Math.VectorUtil.boostZ(e, beta)\n",
    "    eArr = vecToArr(boostedE)\n",
    "    \n",
    "    boostedN = r.Math.VectorUtil.boostZ(n, beta)\n",
    "    nArr = vecToArr(boostedN)\n",
    "    \n",
    "    event[0] = wArr\n",
    "    event[1] = eArr\n",
    "    event[2] = nArr\n",
    "    \n",
    "    return event, beta"
   ]
  },
  {
   "cell_type": "markdown",
   "id": "fourth-equivalent",
   "metadata": {},
   "source": [
    "Now we can call the function `boostedW()` number of times given by the variable `num`. Events are generated into an array `events` and then each beta by which the particles are boosted is stored into the array `beta`."
   ]
  },
  {
   "cell_type": "code",
   "execution_count": 3,
   "id": "personal-accused",
   "metadata": {},
   "outputs": [],
   "source": [
    "# making num events worth of components\n",
    "num = 1000\n",
    "events = np.zeros([num, 3, 4])\n",
    "beta = np.zeros([num])\n",
    "\n",
    "for i in range(num):\n",
    "    events[i], beta[i] = boostedW()"
   ]
  },
  {
   "cell_type": "markdown",
   "id": "bacterial-quality",
   "metadata": {},
   "source": [
    "Now the TTree is created. This is done in very similar way to the case of W boson at rest. \n",
    "\n",
    "One additional branch called `beta` is added to accommodate the values of changing beta. See the `boostValue`."
   ]
  },
  {
   "cell_type": "code",
   "execution_count": 4,
   "id": "phantom-toilet",
   "metadata": {},
   "outputs": [
    {
     "data": {
      "text/plain": [
       "<cppyy.gbl.TBranch object at 0x6ef48e0>"
      ]
     },
     "execution_count": 4,
     "metadata": {},
     "output_type": "execute_result"
    }
   ],
   "source": [
    "tree = r.TTree(\"tree\", \"initial random e and n components\")\n",
    "\n",
    "wBranch = np.zeros(4)\n",
    "eBranch = np.zeros(4)\n",
    "boostValue = np.zeros(4)\n",
    "\n",
    "tree.Branch(\"wBoson\",wBranch,\"wArray[4]/D\")\n",
    "tree.Branch(\"electron\",eBranch,\"elArray[4]/D\")\n",
    "tree.Branch(\"beta\", boostValue,\"boostArray[4]/D\")"
   ]
  },
  {
   "cell_type": "markdown",
   "id": "incident-cornwall",
   "metadata": {},
   "source": [
    "Filling the values into their respective branches."
   ]
  },
  {
   "cell_type": "code",
   "execution_count": 5,
   "id": "dangerous-smell",
   "metadata": {},
   "outputs": [],
   "source": [
    "for i in range(num):\n",
    "    wBranch[2] = events[i,0,2]\n",
    "    wBranch[3] = events[i,0,3]\n",
    "    \n",
    "    for j in range(len(events[0,1])):\n",
    "        eBranch[j] = events[i,1,j]\n",
    "    \n",
    "    boostValue[0] = beta[i]\n",
    "    tree.Fill()"
   ]
  },
  {
   "cell_type": "markdown",
   "id": "available-survivor",
   "metadata": {},
   "source": [
    "We can scan the tree to see Values of W boson and electron."
   ]
  },
  {
   "cell_type": "code",
   "execution_count": 6,
   "id": "golden-concrete",
   "metadata": {},
   "outputs": [],
   "source": [
    "#tree.Scan()"
   ]
  },
  {
   "cell_type": "markdown",
   "id": "mighty-executive",
   "metadata": {},
   "source": [
    "Writing and saving the file."
   ]
  },
  {
   "cell_type": "code",
   "execution_count": 7,
   "id": "described-bench",
   "metadata": {},
   "outputs": [
    {
     "data": {
      "text/plain": [
       "<cppyy.CPPOverload at 0x7f31cf0eaaf0>"
      ]
     },
     "execution_count": 7,
     "metadata": {},
     "output_type": "execute_result"
    }
   ],
   "source": [
    "file = r.TFile(\"generatedComponentsBOOST.root\",\"recreate\")\n",
    "tree.Write()\n",
    "file.Close"
   ]
  }
 ],
 "metadata": {
  "kernelspec": {
   "display_name": "Python 3",
   "language": "python",
   "name": "python3"
  },
  "language_info": {
   "codemirror_mode": {
    "name": "ipython",
    "version": 3
   },
   "file_extension": ".py",
   "mimetype": "text/x-python",
   "name": "python",
   "nbconvert_exporter": "python",
   "pygments_lexer": "ipython3",
   "version": "3.8.5"
  }
 },
 "nbformat": 4,
 "nbformat_minor": 5
}
