{
 "cells": [
  {
   "cell_type": "code",
   "execution_count": 1,
   "id": "cheap-robinson",
   "metadata": {},
   "outputs": [
    {
     "name": "stdout",
     "output_type": "stream",
     "text": [
      "Welcome to JupyROOT 6.22/06\n"
     ]
    }
   ],
   "source": [
    "import ROOT as r\n",
    "import numpy as np"
   ]
  },
  {
   "cell_type": "code",
   "execution_count": 2,
   "id": "touched-indian",
   "metadata": {},
   "outputs": [],
   "source": [
    "# Read file\n",
    "file = r.TFile(\"stationaryW_case.root\")"
   ]
  },
  {
   "cell_type": "code",
   "execution_count": 3,
   "id": "educational-garlic",
   "metadata": {},
   "outputs": [
    {
     "data": {
      "text/plain": [
       "3"
      ]
     },
     "execution_count": 3,
     "metadata": {},
     "output_type": "execute_result"
    },
    {
     "name": "stdout",
     "output_type": "stream",
     "text": [
      "************************************************************\n",
      "*    Row   *        Px *        Py *        Pz *         E *\n",
      "************************************************************\n",
      "*        0 * -0.182454 * -0.708248 * -0.681978 *     40.15 *\n",
      "*        1 * 0.0128768 * -0.044884 * -0.998909 *     40.15 *\n",
      "*        2 * 0.3072322 * -0.836757 * 0.4532607 *     40.15 *\n",
      "************************************************************\n",
      "************************************************************\n",
      "*    Row   *        Px *        Py *        Pz *         E *\n",
      "************************************************************\n",
      "*        0 * 0.1824541 * 0.7082485 * 0.6819783 *     40.15 *\n",
      "*        1 * -0.012876 * 0.0448843 * 0.9989091 *     40.15 *\n",
      "*        2 * -0.307232 * 0.8367574 * -0.453260 *     40.15 *\n",
      "************************************************************\n"
     ]
    }
   ],
   "source": [
    "file.e.Scan(\"Px:Py:Pz:E\")\n",
    "file.n.Scan(\"Px:Py:Pz:E\")"
   ]
  },
  {
   "cell_type": "code",
   "execution_count": 4,
   "id": "planned-telephone",
   "metadata": {},
   "outputs": [],
   "source": [
    "# New trees for the branches which we fill with data we take from .root file\n",
    "eNew = r.TTree(\"eNew\",\"Read Electron Tree\")\n",
    "nNew = r.TTree(\"nNew\", \"Read Neutrino Tree\")"
   ]
  },
  {
   "cell_type": "code",
   "execution_count": 5,
   "id": "sized-miniature",
   "metadata": {},
   "outputs": [],
   "source": [
    "# Make new variables, so we can put the data from .root file into them\n",
    "# Following steps are similar to the steps taken in StationaryW_case.ipybn\n",
    "e4Vect = r.TLorentzVector() #electron\n",
    "n4Vect = r.TLorentzVector() #neutrino"
   ]
  },
  {
   "cell_type": "code",
   "execution_count": 6,
   "id": "pointed-spell",
   "metadata": {},
   "outputs": [],
   "source": [
    "ePx = np.array([e4Vect.Px()])\n",
    "ePy = np.array([e4Vect.Py()])\n",
    "ePz = np.array([e4Vect.Pz()])\n",
    "eE = np.array([e4Vect.E()])\n",
    "\n",
    "# Setting up the variables, so we can set up branches, where we store them\n",
    "nPx = np.array([n4Vect.Px()])\n",
    "nPy = np.array([n4Vect.Py()])\n",
    "nPz = np.array([n4Vect.Pz()])\n",
    "nE = np.array([n4Vect.E()])"
   ]
  },
  {
   "cell_type": "code",
   "execution_count": 7,
   "id": "alone-croatia",
   "metadata": {},
   "outputs": [
    {
     "data": {
      "text/plain": [
       "<cppyy.gbl.TBranch object at 0x7750050>"
      ]
     },
     "execution_count": 7,
     "metadata": {},
     "output_type": "execute_result"
    }
   ],
   "source": [
    "eNew.Branch(\"Px\",ePx,\"xComponent[1]/D\")\n",
    "eNew.Branch(\"Py\",ePy,\"yComponent[1]/D\")\n",
    "eNew.Branch(\"Pz\",ePz,\"zComponent[1]/D\")\n",
    "eNew.Branch(\"E\",eE,\"energy[1]/D\")\n",
    "\n",
    "nNew.Branch(\"Px\",nPx,\"xComponent[1]/D\")\n",
    "nNew.Branch(\"Py\",nPy,\"yComponent[1]/D\")\n",
    "nNew.Branch(\"Pz\",nPz,\"zComponent[1]/D\")\n",
    "nNew.Branch(\"E\",nE,\"energy[1]/D\")"
   ]
  },
  {
   "cell_type": "code",
   "execution_count": 8,
   "id": "lightweight-offer",
   "metadata": {},
   "outputs": [],
   "source": [
    "# now we fill our new trees with data\n",
    "# Electron\n",
    "for entry in file.e:\n",
    "    px = entry.Px\n",
    "    py = entry.Py\n",
    "    pz = entry.Pz\n",
    "    E = entry.E\n",
    "\n",
    "    e4Vect.SetPxPyPzE(px,py,pz,E) #Changing TLorentzVector for neutrino\n",
    "\n",
    "    ePx[0] = e4Vect.Px()\n",
    "    ePy[0] = e4Vect.Py()\n",
    "    ePz[0] = e4Vect.Pz()\n",
    "    eE[0] = e4Vect.E()\n",
    "\n",
    "    eNew.Fill()"
   ]
  },
  {
   "cell_type": "code",
   "execution_count": 9,
   "id": "mature-spice",
   "metadata": {},
   "outputs": [],
   "source": [
    "#Neutrino\n",
    "for entry in file.n:\n",
    "    px = entry.Px\n",
    "    py = entry.Py\n",
    "    pz = entry.Pz\n",
    "    E = entry.E\n",
    "\n",
    "    n4Vect.SetPxPyPzE(px,py,pz,E) #Changing TLorentzVector for neutrino\n",
    "\n",
    "    nPx[0] = n4Vect.Px()\n",
    "    nPy[0] = n4Vect.Py()\n",
    "    nPz[0] = n4Vect.Pz()\n",
    "    nE[0] = n4Vect.E()\n",
    "\n",
    "    nNew.Fill()"
   ]
  },
  {
   "cell_type": "code",
   "execution_count": 10,
   "id": "coated-combining",
   "metadata": {},
   "outputs": [
    {
     "data": {
      "text/plain": [
       "3"
      ]
     },
     "execution_count": 10,
     "metadata": {},
     "output_type": "execute_result"
    },
    {
     "name": "stdout",
     "output_type": "stream",
     "text": [
      "************************************************************\n",
      "*    Row   *        Px *        Py *        Pz *         E *\n",
      "************************************************************\n",
      "*        0 * -0.182454 * -0.708248 * -0.681978 *     40.15 *\n",
      "*        1 * 0.0128768 * -0.044884 * -0.998909 *     40.15 *\n",
      "*        2 * 0.3072322 * -0.836757 * 0.4532607 *     40.15 *\n",
      "************************************************************\n",
      "************************************************************\n",
      "*    Row   *        Px *        Py *        Pz *         E *\n",
      "************************************************************\n",
      "*        0 * 0.1824541 * 0.7082485 * 0.6819783 *     40.15 *\n",
      "*        1 * -0.012876 * 0.0448843 * 0.9989091 *     40.15 *\n",
      "*        2 * -0.307232 * 0.8367574 * -0.453260 *     40.15 *\n",
      "************************************************************\n"
     ]
    }
   ],
   "source": [
    "eNew.Scan(\"Px:Py:Pz:E\")\n",
    "nNew.Scan(\"Px:Py:Pz:E\")"
   ]
  },
  {
   "cell_type": "markdown",
   "id": "divided-range",
   "metadata": {},
   "source": [
    "Data was read successfully. The whole code can be written much more efficiently. Maybe with the use of more functions, to create/fill new branches. This will be done later."
   ]
  },
  {
   "cell_type": "code",
   "execution_count": null,
   "id": "fiscal-rating",
   "metadata": {},
   "outputs": [],
   "source": []
  }
 ],
 "metadata": {
  "kernelspec": {
   "display_name": "Python 3",
   "language": "python",
   "name": "python3"
  },
  "language_info": {
   "codemirror_mode": {
    "name": "ipython",
    "version": 3
   },
   "file_extension": ".py",
   "mimetype": "text/x-python",
   "name": "python",
   "nbconvert_exporter": "python",
   "pygments_lexer": "ipython3",
   "version": "3.8.5"
  }
 },
 "nbformat": 4,
 "nbformat_minor": 5
}
