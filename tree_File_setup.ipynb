{
 "cells": [
  {
   "cell_type": "code",
   "execution_count": 1,
   "id": "nervous-geometry",
   "metadata": {},
   "outputs": [
    {
     "name": "stdout",
     "output_type": "stream",
     "text": [
      "Welcome to JupyROOT 6.22/06\n"
     ]
    }
   ],
   "source": [
    "import ROOT\n",
    "import numpy as np"
   ]
  },
  {
   "cell_type": "markdown",
   "id": "liberal-soviet",
   "metadata": {},
   "source": [
    "This is my first attempt to create a `firstTree.root` file,  which should contain the randomly generated values for the components of W-Boson momentum.\n",
    "\n",
    "I followed this site. \n",
    "`https://wiki.physik.uzh.ch/cms/root:pyroot_ttree`\n",
    "\n",
    "(I basically did what they did, but with momenta instead of angles)\n",
    "\n",
    "I will make more changes and comments later as we learn more."
   ]
  },
  {
   "cell_type": "code",
   "execution_count": 2,
   "id": "starting-tradition",
   "metadata": {},
   "outputs": [],
   "source": [
    "file = ROOT.TFile(\"firstTree.root\", \"recreate\")\n",
    "tree = ROOT.TTree(\"t\", \"firstTree\")"
   ]
  },
  {
   "cell_type": "code",
   "execution_count": 3,
   "id": "invalid-garden",
   "metadata": {},
   "outputs": [],
   "source": [
    "Px = np.zeros(1, dtype = float)\n",
    "Py = np.zeros(1, dtype = float)\n",
    "Pz = np.zeros(1, dtype = float)"
   ]
  },
  {
   "cell_type": "markdown",
   "id": "executive-division",
   "metadata": {},
   "source": [
    "The way I understand this, is that we need to create a branch for each variable, so we can store the generated values there.\n",
    "\n",
    "I do not understand what exactly is `\"normal/D\"`"
   ]
  },
  {
   "cell_type": "code",
   "execution_count": 4,
   "id": "timely-peace",
   "metadata": {},
   "outputs": [
    {
     "data": {
      "text/plain": [
       "<cppyy.gbl.TBranch object at 0x686ea00>"
      ]
     },
     "execution_count": 4,
     "metadata": {},
     "output_type": "execute_result"
    }
   ],
   "source": [
    "tree.Branch(\"Px\", Px, \"normal/D\")\n",
    "tree.Branch(\"Py\", Py, \"normal/D\")\n",
    "tree.Branch(\"Pz\", Pz, \"normal/D\")"
   ]
  },
  {
   "cell_type": "markdown",
   "id": "million-sweden",
   "metadata": {},
   "source": [
    "Generating random values which are then filled into the tree."
   ]
  },
  {
   "cell_type": "code",
   "execution_count": 5,
   "id": "higher-employee",
   "metadata": {},
   "outputs": [],
   "source": [
    "for i in range(1000):\n",
    "    theta = np.random.uniform(-np.pi,np.pi)\n",
    "    phi = np.random.uniform(0,2 * np.pi)\n",
    "    \n",
    "    Px[0] = np.sin(theta) * np.cos(phi)\n",
    "    Py[0] = np.sin(theta) * np.sin(phi)\n",
    "    Pz[0] = np.cos(theta)\n",
    "    \n",
    "    tree.Fill()"
   ]
  },
  {
   "cell_type": "markdown",
   "id": "rough-inclusion",
   "metadata": {},
   "source": [
    "This should write the created tree into our file `firstTree.root`"
   ]
  },
  {
   "cell_type": "code",
   "execution_count": 6,
   "id": "colonial-blond",
   "metadata": {},
   "outputs": [
    {
     "data": {
      "text/plain": [
       "448"
      ]
     },
     "execution_count": 6,
     "metadata": {},
     "output_type": "execute_result"
    }
   ],
   "source": [
    "file.Write()"
   ]
  },
  {
   "cell_type": "markdown",
   "id": "behind-thumbnail",
   "metadata": {},
   "source": [
    "Now we close the file. (Is this necessary?)"
   ]
  },
  {
   "cell_type": "code",
   "execution_count": 7,
   "id": "oriented-subcommittee",
   "metadata": {},
   "outputs": [],
   "source": [
    "file.Close()"
   ]
  },
  {
   "cell_type": "markdown",
   "id": "circular-nudist",
   "metadata": {},
   "source": [
    "I do not know yet, what to do with the file itself or how to use it."
   ]
  },
  {
   "cell_type": "code",
   "execution_count": null,
   "id": "honest-thomas",
   "metadata": {},
   "outputs": [],
   "source": []
  }
 ],
 "metadata": {
  "kernelspec": {
   "display_name": "Python 3",
   "language": "python",
   "name": "python3"
  },
  "language_info": {
   "codemirror_mode": {
    "name": "ipython",
    "version": 3
   },
   "file_extension": ".py",
   "mimetype": "text/x-python",
   "name": "python",
   "nbconvert_exporter": "python",
   "pygments_lexer": "ipython3",
   "version": "3.8.5"
  }
 },
 "nbformat": 4,
 "nbformat_minor": 5
}
