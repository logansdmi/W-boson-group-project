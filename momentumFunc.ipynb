{
 "cells": [
  {
   "cell_type": "code",
   "execution_count": 1,
   "id": "miniature-benefit",
   "metadata": {},
   "outputs": [
    {
     "name": "stdout",
     "output_type": "stream",
     "text": [
      "Welcome to JupyROOT 6.22/06\n"
     ]
    }
   ],
   "source": [
    "from ROOT import TLorentzVector\n",
    "import numpy as np"
   ]
  },
  {
   "cell_type": "code",
   "execution_count": 2,
   "id": "dramatic-jumping",
   "metadata": {},
   "outputs": [],
   "source": [
    "def thetaPhi():#\n",
    "    '''returns random theta and phi values'''\n",
    "    theta = np.random.uniform(0,2*np.pi)\n",
    "    phi = np.random.uniform(0,np.pi)\n",
    "    return theta, phi\n",
    "\n",
    "def momenta(mag, theta, phi):\n",
    "    '''given an input magnitude, theta and phi the cartesian momenta are returned'''\n",
    "    Px = mag * np.sin(theta) * np.cos(phi) \n",
    "    Py = mag * np.sin(theta) * np.sin(phi)\n",
    "    Pz = mag * np.cos(theta)\n",
    "    \n",
    "    return Px, Py, Pz\n",
    "\n",
    "def vector(g, theta, phi, mag, mass):\n",
    "    '''given a tlorentzvector g the cartesian components are set with the circular components and the mass'''\n",
    "    Px, Py, Pz = momenta(mag, theta, phi)\n",
    "    g.SetPxPyPzE(Px, Py, Pz, mass)"
   ]
  },
  {
   "cell_type": "code",
   "execution_count": 15,
   "id": "prostate-monday",
   "metadata": {},
   "outputs": [],
   "source": [
    "#defining mass of particles\n",
    "wMass = 80.3\n",
    "\n",
    "eMass = 0.0005\n",
    "\n",
    "nMass = 0\n",
    "\n",
    "# setting up particles\n",
    "w = TLorentzVector()\n",
    "#stationary case\n",
    "w.SetPxPyPzE(0,0,0, wMass)\n",
    "\n",
    "e = TLorentzVector()\n",
    "n = TLorentzVector()\n"
   ]
  },
  {
   "cell_type": "code",
   "execution_count": 16,
   "id": "spectacular-nitrogen",
   "metadata": {},
   "outputs": [],
   "source": [
    " \n",
    "def components(num):\n",
    "    '''given a number of events wanted, returns arrays of the components of the electron and neutrinos'''\n",
    "    \n",
    "    #initialising arrays for components\n",
    "    ePx = np.zeros(num)\n",
    "    ePy = np.zeros(num)\n",
    "    ePz = np.zeros(num)\n",
    "    eE = np.zeros(num)\n",
    "\n",
    "    nPx = np.zeros(num)\n",
    "    nPy = np.zeros(num)\n",
    "    nPz = np.zeros(num)\n",
    "    nE = np.zeros(num)\n",
    "    \n",
    "    # looping over number of events and filling component arrays\n",
    "    for i in range(num):\n",
    "        #making e components\n",
    "        thetae, phie = thetaPhi()\n",
    "        vector(e, thetae, phie, np.random.uniform(0,80), eMass)\n",
    "        \n",
    "        ePx[i] = e.Px()\n",
    "        ePy[i] = e.Py()\n",
    "        ePz[i] = e.Pz()\n",
    "        eE[i] = e.E()\n",
    "               \n",
    "        #making neutrino components\n",
    "        n = w - e\n",
    "        n.SetE(nMass)\n",
    "               \n",
    "        nPx[i] = n.Px()\n",
    "        nPy[i] = n.Py()\n",
    "        nPz[i] = n.Pz()\n",
    "        nE[i] = n.E()\n",
    "        \n",
    "    return ePx, ePy, ePz, eE, nPx, nPy, nPz, nE\n"
   ]
  },
  {
   "cell_type": "code",
   "execution_count": 19,
   "id": "homeless-replica",
   "metadata": {},
   "outputs": [],
   "source": [
    "# making 10 events worth of components\n",
    "ePx, ePy, ePz, eE, nPx, nPy, nPz, nE = components(10)"
   ]
  }
 ],
 "metadata": {
  "kernelspec": {
   "display_name": "Python 3",
   "language": "python",
   "name": "python3"
  },
  "language_info": {
   "codemirror_mode": {
    "name": "ipython",
    "version": 3
   },
   "file_extension": ".py",
   "mimetype": "text/x-python",
   "name": "python",
   "nbconvert_exporter": "python",
   "pygments_lexer": "ipython3",
   "version": "3.8.6"
  }
 },
 "nbformat": 4,
 "nbformat_minor": 5
}
