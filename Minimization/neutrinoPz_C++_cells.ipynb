{
 "cells": [
  {
   "cell_type": "code",
   "execution_count": 1,
   "id": "cubic-daughter",
   "metadata": {},
   "outputs": [
    {
     "name": "stdout",
     "output_type": "stream",
     "text": [
      "Welcome to JupyROOT 6.22/06\n"
     ]
    }
   ],
   "source": [
    "import ROOT"
   ]
  },
  {
   "cell_type": "markdown",
   "id": "ready-currency",
   "metadata": {},
   "source": [
    "Just trying to figure out how `ROOT` functions are called in C++ kernel."
   ]
  },
  {
   "cell_type": "code",
   "execution_count": 2,
   "id": "wrapped-straight",
   "metadata": {},
   "outputs": [
    {
     "name": "stdout",
     "output_type": "stream",
     "text": [
      "2"
     ]
    }
   ],
   "source": [
    "%%cpp \n",
    "\n",
    "double var3 = 4;\n",
    "double sqrt1 = TMath::Sqrt(var3);\n",
    "\n",
    "cout << sqrt1;"
   ]
  },
  {
   "cell_type": "code",
   "execution_count": 3,
   "id": "pointed-wallace",
   "metadata": {},
   "outputs": [
    {
     "name": "stdout",
     "output_type": "stream",
     "text": [
      "0"
     ]
    }
   ],
   "source": [
    "%%cpp\n",
    "double ePx = 16.057876902173593;\n",
    "double ePy = 19.8053627211877;\n",
    "double ePz = -31.014749666518803;\n",
    "\n",
    "double pTSq = pow(ePx,2) + pow(ePy,2);\n",
    "double pTotSq = pTSq + pow(ePz,2);\n",
    "\n",
    "double wMass = TMath::Sqrt(pTotSq) + TMath::Sqrt(pTSq + pow(ePz,2));\n",
    "double g = pow(wMass - 80.3,2);\n",
    "\n",
    "cout << g;"
   ]
  },
  {
   "cell_type": "markdown",
   "id": "contemporary-devices",
   "metadata": {},
   "source": [
    "**Interesting fact**: We do not need to call something like `ROOT.function...` when working in `c++` cell."
   ]
  },
  {
   "cell_type": "markdown",
   "id": "basic-welsh",
   "metadata": {},
   "source": [
    "To define functions, we need to start the block with `%%cpp -d`\n",
    "\n",
    "The components of electron momentum are:\n",
    "\n",
    "**Px = 16.057876902173593**\n",
    "\n",
    "**Py = 19.8053627211877**\n",
    "\n",
    "**Pz = -31.014749666518803**"
   ]
  },
  {
   "cell_type": "code",
   "execution_count": 4,
   "id": "medical-jacksonville",
   "metadata": {},
   "outputs": [],
   "source": [
    "%%cpp -d   \n",
    "\n",
    "void fcn(int &npar, double *gin, double &f, double *par, int iflag){\n",
    "\n",
    "    double nPz = par[0];\n",
    "\n",
    "    double ePx = 16.057876902173593;\n",
    "    double ePy = 19.8053627211877;\n",
    "    double ePz = -31.014749666518803;\n",
    "\n",
    "    double pTSq = pow(ePx,2) + pow(ePy,2);\n",
    "    double pTotSq = pTSq + pow(ePz,2);\n",
    "    \n",
    "    double wMass = TMath::Sqrt(pTotSq) + TMath::Sqrt(pTSq + pow(nPz,2));\n",
    "    \n",
    "    f = pow(wMass - 80.3,2);\n",
    "};\n",
    "\n",
    "void example_01(){\n",
    " \n",
    "    TMinuit *gMinuit = new TMinuit(1);\n",
    "    gMinuit->SetFCN(fcn);\n",
    "    gMinuit->DefineParameter(0,\"nPz\",32.,0.5,0.,0.);\n",
    "    gMinuit->Command(\"MIGRAD\");\n",
    "\n",
    "};"
   ]
  },
  {
   "cell_type": "markdown",
   "id": "cosmetic-button",
   "metadata": {},
   "source": [
    "To call the function, we start the cell with just `%%cpp`"
   ]
  },
  {
   "cell_type": "code",
   "execution_count": 5,
   "id": "integral-longer",
   "metadata": {},
   "outputs": [
    {
     "name": "stdout",
     "output_type": "stream",
     "text": [
      " PARAMETER DEFINITIONS:\n",
      "    NO.   NAME         VALUE      STEP SIZE      LIMITS\n",
      "     1 nPz          3.20000e+01  5.00000e-01     no limits\n",
      " **********\n",
      " **    1 **MIGRAD \n",
      " **********\n",
      " FIRST CALL TO USER FUNCTION AT NEW START POINT, WITH IFLAG=4.\n",
      " START MIGRAD MINIMIZATION.  STRATEGY  1.  CONVERGENCE WHEN EDM .LT. 1.00e-04\n",
      " FCN=0.586545 FROM MIGRAD    STATUS=INITIATE        4 CALLS           5 TOTAL\n",
      "                     EDM= unknown      STRATEGY= 1      NO ERROR MATRIX       \n",
      "  EXT PARAMETER               CURRENT GUESS       STEP         FIRST   \n",
      "  NO.   NAME      VALUE            ERROR          SIZE      DERIVATIVE \n",
      "   1  nPz          3.20000e+01   5.00000e-01   5.00000e-01   1.19795e+00\n",
      " MIGRAD MINIMIZATION HAS CONVERGED.\n",
      " MIGRAD WILL VERIFY CONVERGENCE AND ERROR MATRIX.\n",
      " COVARIANCE MATRIX CALCULATED SUCCESSFULLY\n",
      " FCN=6.22826e-08 FROM MIGRAD    STATUS=CONVERGED      15 CALLS          16 TOTAL\n",
      "                     EDM=1.24565e-07    STRATEGY= 1      ERROR MATRIX ACCURATE \n",
      "  EXT PARAMETER                                   STEP         FIRST   \n",
      "  NO.   NAME      VALUE            ERROR          SIZE      DERIVATIVE \n",
      "   1  nPz          3.10151e+01   1.29454e+00   6.31887e-04   3.85565e-04\n",
      " EXTERNAL ERROR MATRIX.    NDIM=  25    NPAR=  1    ERR DEF=1\n",
      "  1.676e+00 \n"
     ]
    }
   ],
   "source": [
    "%%cpp\n",
    "example_01();"
   ]
  },
  {
   "cell_type": "markdown",
   "id": "eligible-venture",
   "metadata": {},
   "source": [
    "It is possible to call the function `example_01()` within Python cell."
   ]
  },
  {
   "cell_type": "code",
   "execution_count": 6,
   "id": "excellent-coordination",
   "metadata": {},
   "outputs": [
    {
     "name": "stdout",
     "output_type": "stream",
     "text": [
      " PARAMETER DEFINITIONS:\n",
      "    NO.   NAME         VALUE      STEP SIZE      LIMITS\n",
      "     1 nPz          3.20000e+01  5.00000e-01     no limits\n",
      " **********\n",
      " **    1 **MIGRAD \n",
      " **********\n",
      " FIRST CALL TO USER FUNCTION AT NEW START POINT, WITH IFLAG=4.\n",
      " START MIGRAD MINIMIZATION.  STRATEGY  1.  CONVERGENCE WHEN EDM .LT. 1.00e-04\n",
      " FCN=0.586545 FROM MIGRAD    STATUS=INITIATE        4 CALLS           5 TOTAL\n",
      "                     EDM= unknown      STRATEGY= 1      NO ERROR MATRIX       \n",
      "  EXT PARAMETER               CURRENT GUESS       STEP         FIRST   \n",
      "  NO.   NAME      VALUE            ERROR          SIZE      DERIVATIVE \n",
      "   1  nPz          3.20000e+01   5.00000e-01   5.00000e-01   1.19795e+00\n",
      " MIGRAD MINIMIZATION HAS CONVERGED.\n",
      " MIGRAD WILL VERIFY CONVERGENCE AND ERROR MATRIX.\n",
      " COVARIANCE MATRIX CALCULATED SUCCESSFULLY\n",
      " FCN=6.22826e-08 FROM MIGRAD    STATUS=CONVERGED      15 CALLS          16 TOTAL\n",
      "                     EDM=1.24565e-07    STRATEGY= 1      ERROR MATRIX ACCURATE \n",
      "  EXT PARAMETER                                   STEP         FIRST   \n",
      "  NO.   NAME      VALUE            ERROR          SIZE      DERIVATIVE \n",
      "   1  nPz          3.10151e+01   1.29454e+00   6.31887e-04   3.85565e-04\n",
      " EXTERNAL ERROR MATRIX.    NDIM=  25    NPAR=  1    ERR DEF=1\n",
      "  1.676e+00 \n"
     ]
    }
   ],
   "source": [
    "ROOT.example_01()"
   ]
  },
  {
   "cell_type": "code",
   "execution_count": null,
   "id": "chemical-japan",
   "metadata": {},
   "outputs": [],
   "source": []
  }
 ],
 "metadata": {
  "kernelspec": {
   "display_name": "Python 3",
   "language": "python",
   "name": "python3"
  },
  "language_info": {
   "codemirror_mode": {
    "name": "ipython",
    "version": 3
   },
   "file_extension": ".py",
   "mimetype": "text/x-python",
   "name": "python",
   "nbconvert_exporter": "python",
   "pygments_lexer": "ipython3",
   "version": "3.8.5"
  }
 },
 "nbformat": 4,
 "nbformat_minor": 5
}
