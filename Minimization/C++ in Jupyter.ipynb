{
 "cells": [
  {
   "cell_type": "code",
   "execution_count": 1,
   "id": "cubic-daughter",
   "metadata": {},
   "outputs": [
    {
     "name": "stdout",
     "output_type": "stream",
     "text": [
      "Welcome to JupyROOT 6.22/06\n"
     ]
    }
   ],
   "source": [
    "import ROOT"
   ]
  },
  {
   "cell_type": "markdown",
   "id": "plain-jesus",
   "metadata": {},
   "source": [
    "To define functions, we need to start the block with `%%cpp -d`"
   ]
  },
  {
   "cell_type": "code",
   "execution_count": 2,
   "id": "medical-jacksonville",
   "metadata": {},
   "outputs": [],
   "source": [
    "%%cpp -d   \n",
    "\n",
    "void fcn(int &npar, double *gin, double &f, double *par, int iflag){\n",
    " double x = par[0], y = par[1];\n",
    " f = pow(x-2.,2)+pow(y-3.,2);\n",
    "};\n",
    "\n",
    "void example_01(){\n",
    " TMinuit *gMinuit = new TMinuit(2);\n",
    " gMinuit->SetFCN(fcn);\n",
    " gMinuit->DefineParameter(0, \"x\", 8. , 1., 0., 0.);\n",
    " gMinuit->DefineParameter(1, \"y\", 6. , 1., 0., 0.);\n",
    " gMinuit->Command(\"MIGRAD\");\n",
    " double x,y,xerr,yerr;\n",
    " gMinuit->GetParameter(0,x,xerr);\n",
    " gMinuit->GetParameter(1,y,yerr);\n",
    " printf(\"x: %+.7f +- %.7f\\n\",x,xerr);\n",
    " printf(\"y: %+.7f +- %.7f\\n\",y,yerr);\n",
    "};"
   ]
  },
  {
   "cell_type": "markdown",
   "id": "advised-bottom",
   "metadata": {},
   "source": [
    "To call the function, we start the cell with just `%%cpp`"
   ]
  },
  {
   "cell_type": "code",
   "execution_count": 3,
   "id": "elegant-muscle",
   "metadata": {},
   "outputs": [
    {
     "name": "stdout",
     "output_type": "stream",
     "text": [
      " PARAMETER DEFINITIONS:\n",
      "    NO.   NAME         VALUE      STEP SIZE      LIMITS\n",
      "     1 x            8.00000e+00  1.00000e+00     no limits\n",
      "     2 y            6.00000e+00  1.00000e+00     no limits\n",
      " **********\n",
      " **    1 **MIGRAD \n",
      " **********\n",
      " FIRST CALL TO USER FUNCTION AT NEW START POINT, WITH IFLAG=4.\n",
      " START MIGRAD MINIMIZATION.  STRATEGY  1.  CONVERGENCE WHEN EDM .LT. 1.00e-04\n",
      " FCN=45 FROM MIGRAD    STATUS=INITIATE        8 CALLS           9 TOTAL\n",
      "                     EDM= unknown      STRATEGY= 1      NO ERROR MATRIX       \n",
      "  EXT PARAMETER               CURRENT GUESS       STEP         FIRST   \n",
      "  NO.   NAME      VALUE            ERROR          SIZE      DERIVATIVE \n",
      "   1  x            8.00000e+00   1.00000e+00   1.00000e+00   1.20000e+01\n",
      "   2  y            6.00000e+00   1.00000e+00   1.00000e+00   6.00000e+00\n",
      " MIGRAD MINIMIZATION HAS CONVERGED.\n",
      " MIGRAD WILL VERIFY CONVERGENCE AND ERROR MATRIX.\n",
      " COVARIANCE MATRIX CALCULATED SUCCESSFULLY\n",
      " FCN=4.91382e-20 FROM MIGRAD    STATUS=CONVERGED      23 CALLS          24 TOTAL\n",
      "                     EDM=9.82764e-20    STRATEGY= 1      ERROR MATRIX ACCURATE \n",
      "  EXT PARAMETER                                   STEP         FIRST   \n",
      "  NO.   NAME      VALUE            ERROR          SIZE      DERIVATIVE \n",
      "   1  x            2.00000e+00   1.00000e+00   4.88281e-04   3.96966e-10\n",
      "   2  y            3.00000e+00   1.00000e+00   4.88281e-04   1.97410e-10\n",
      " EXTERNAL ERROR MATRIX.    NDIM=  25    NPAR=  2    ERR DEF=1\n",
      "  1.000e+00 -1.110e-16 \n",
      " -1.110e-16  1.000e+00 \n",
      " PARAMETER  CORRELATION COEFFICIENTS  \n",
      "       NO.  GLOBAL      1      2\n",
      "        1  0.00000   1.000 -0.000\n",
      "        2  0.00000  -0.000  1.000\n",
      "x: +2.0000000 +- 1.0000000\n",
      "y: +3.0000000 +- 1.0000000\n"
     ]
    }
   ],
   "source": [
    "%%cpp\n",
    "example_01();"
   ]
  },
  {
   "cell_type": "code",
   "execution_count": null,
   "id": "military-organ",
   "metadata": {},
   "outputs": [],
   "source": []
  }
 ],
 "metadata": {
  "kernelspec": {
   "display_name": "Python 3",
   "language": "python",
   "name": "python3"
  },
  "language_info": {
   "codemirror_mode": {
    "name": "ipython",
    "version": 3
   },
   "file_extension": ".py",
   "mimetype": "text/x-python",
   "name": "python",
   "nbconvert_exporter": "python",
   "pygments_lexer": "ipython3",
   "version": "3.8.5"
  }
 },
 "nbformat": 4,
 "nbformat_minor": 5
}
