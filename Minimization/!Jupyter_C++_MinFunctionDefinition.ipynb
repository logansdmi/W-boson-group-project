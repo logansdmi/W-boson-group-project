{
 "cells": [
  {
   "cell_type": "code",
   "execution_count": 1,
   "id": "cubic-daughter",
   "metadata": {},
   "outputs": [
    {
     "name": "stdout",
     "output_type": "stream",
     "text": [
      "Welcome to JupyROOT 6.22/06\n"
     ]
    }
   ],
   "source": [
    "import ROOT as r\n",
    "import numpy as np"
   ]
  },
  {
   "cell_type": "markdown",
   "id": "basic-welsh",
   "metadata": {},
   "source": [
    "To define functions, we need to start the block with `%%cpp -d`"
   ]
  },
  {
   "cell_type": "markdown",
   "id": "employed-league",
   "metadata": {},
   "source": [
    "See `FixParameter()` to fix a value of a parameter."
   ]
  },
  {
   "cell_type": "code",
   "execution_count": 2,
   "id": "medical-jacksonville",
   "metadata": {},
   "outputs": [],
   "source": [
    "%%cpp -d   \n",
    "\n",
    "void fcn(int &npar, double *gin, double &f, double *par, int iflag){\n",
    "    double x = par[0];\n",
    "    double y = par[1];\n",
    "    double nPz = par[2];\n",
    "\n",
    "    double wMass = TMath::Sqrt(x) + TMath::Sqrt(y + pow(nPz,2));\n",
    "\n",
    "    f = pow(wMass-80.3,2);\n",
    "};\n",
    "\n",
    "double example_01(double *wArr, double *elArr){\n",
    "    double ePx = elArr[0];\n",
    "    double ePy = elArr[1];\n",
    "    double ePz = elArr[2];\n",
    "    \n",
    "    double initVal = -ePz + 1;\n",
    "    double pTSqEl = pow(ePx,2) + pow(ePy,2);\n",
    "    double pTotSqEl = pTSqEl + pow(ePz,2);  \n",
    "    \n",
    "    TMinuit *gMinuit = new TMinuit(3);\n",
    "    gMinuit->SetFCN(fcn);\n",
    "    gMinuit->DefineParameter(0, \"pTotSqEl\", pTotSqEl, 1., 0., 0.);\n",
    "    gMinuit->DefineParameter(1, \"pTSqEl\", pTSqEl, 1., 0., 0.);\n",
    "    gMinuit->DefineParameter(2, \"nPz\", initVal, 0.005, 0., 0.);   \n",
    "    gMinuit->FixParameter(0);\n",
    "    gMinuit->FixParameter(1);    \n",
    "    gMinuit->Command(\"MIGRAD\");\n",
    "\n",
    "    double nPz, nPzErr;\n",
    "    gMinuit->GetParameter(2, nPz, nPzErr);\n",
    "    return nPz;\n",
    "\n",
    "};"
   ]
  },
  {
   "cell_type": "markdown",
   "id": "cosmetic-button",
   "metadata": {},
   "source": [
    "To call the function, we start the cell with just `%%cpp`"
   ]
  },
  {
   "cell_type": "code",
   "execution_count": 3,
   "id": "integral-longer",
   "metadata": {},
   "outputs": [
    {
     "name": "stderr",
     "output_type": "stream",
     "text": [
      "\u001b[1minput_line_54:2:3: \u001b[0m\u001b[0;1;31merror: \u001b[0m\u001b[1muse of undeclared identifier 'example_01'\u001b[0m\n",
      " (example_01(1612.0225, 650.10900000000004))\n",
      "\u001b[0;1;32m  ^\n",
      "\u001b[0mError in <HandleInterpreterException>: Error evaluating expression (example_01(1612.0225, 650.10900000000004)).\n",
      "Execution of your code was aborted.\n"
     ]
    }
   ],
   "source": [
    "%%cpp\n",
    "double a = example_01(1612.0225, 650.109);\n",
    "cout << a;"
   ]
  },
  {
   "cell_type": "markdown",
   "id": "eligible-venture",
   "metadata": {},
   "source": [
    "Calling function `example_01()` within python."
   ]
  },
  {
   "cell_type": "code",
   "execution_count": 3,
   "id": "excellent-coordination",
   "metadata": {},
   "outputs": [
    {
     "name": "stdout",
     "output_type": "stream",
     "text": [
      " PARAMETER DEFINITIONS:\n",
      "    NO.   NAME         VALUE      STEP SIZE      LIMITS\n",
      "     1 pTotSqEl     1.61202e+03  1.00000e+00     no limits\n",
      "     2 pTSqEl       6.50108e+02  1.00000e+00     no limits\n",
      "     3 nPz          3.20147e+01  5.00000e-03     no limits\n",
      " **********\n",
      " **    1 **FIX           1\n",
      " **********\n",
      " **********\n",
      " **    2 **FIX           2\n",
      " **********\n",
      " **********\n",
      " **    3 **MIGRAD \n",
      " **********\n",
      " FIRST CALL TO USER FUNCTION AT NEW START POINT, WITH IFLAG=4.\n",
      " START MIGRAD MINIMIZATION.  STRATEGY  1.  CONVERGENCE WHEN EDM .LT. 1.00e-04\n",
      " FCN=0.604349 FROM MIGRAD    STATUS=INITIATE        4 CALLS           5 TOTAL\n",
      "                     EDM= unknown      STRATEGY= 1      NO ERROR MATRIX       \n",
      "  EXT PARAMETER               CURRENT GUESS       STEP         FIRST   \n",
      "  NO.   NAME      VALUE            ERROR          SIZE      DERIVATIVE \n",
      "   1  pTotSqEl     1.61202e+03     fixed    \n",
      "   2  pTSqEl       6.50108e+02     fixed    \n",
      "   3  nPz          3.20147e+01   5.00000e-03   5.00000e-03   1.21621e+00\n",
      " MIGRAD MINIMIZATION HAS CONVERGED.\n",
      " MIGRAD WILL VERIFY CONVERGENCE AND ERROR MATRIX.\n",
      " COVARIANCE MATRIX CALCULATED SUCCESSFULLY\n",
      " FCN=6.78518e-08 FROM MIGRAD    STATUS=CONVERGED      15 CALLS          16 TOTAL\n",
      "                     EDM=1.35703e-07    STRATEGY= 1      ERROR MATRIX ACCURATE \n",
      "  EXT PARAMETER                                   STEP         FIRST   \n",
      "  NO.   NAME      VALUE            ERROR          SIZE      DERIVATIVE \n",
      "   1  pTotSqEl     1.61202e+03     fixed    \n",
      "   2  pTSqEl       6.50108e+02     fixed    \n",
      "   3  nPz          3.10151e+01   1.29454e+00   6.31880e-04   4.02435e-04\n",
      " EXTERNAL ERROR MATRIX.    NDIM=  25    NPAR=  1    ERR DEF=1\n",
      "  1.676e+00 \n"
     ]
    }
   ],
   "source": [
    "elArr = np.array([16.057876902173593,19.8053627211877,-31.014749666518803])\n",
    "wArr = np.array([0.0,0.0,0.0])\n",
    "\n",
    "a = r.example_01(wArr, elArr)"
   ]
  },
  {
   "cell_type": "code",
   "execution_count": 4,
   "id": "excessive-weather",
   "metadata": {},
   "outputs": [
    {
     "name": "stdout",
     "output_type": "stream",
     "text": [
      "31.015086873959238\n"
     ]
    }
   ],
   "source": [
    "print(a)"
   ]
  },
  {
   "cell_type": "code",
   "execution_count": null,
   "id": "considered-router",
   "metadata": {},
   "outputs": [],
   "source": []
  }
 ],
 "metadata": {
  "kernelspec": {
   "display_name": "Python 3",
   "language": "python",
   "name": "python3"
  },
  "language_info": {
   "codemirror_mode": {
    "name": "ipython",
    "version": 3
   },
   "file_extension": ".py",
   "mimetype": "text/x-python",
   "name": "python",
   "nbconvert_exporter": "python",
   "pygments_lexer": "ipython3",
   "version": "3.8.5"
  }
 },
 "nbformat": 4,
 "nbformat_minor": 5
}
