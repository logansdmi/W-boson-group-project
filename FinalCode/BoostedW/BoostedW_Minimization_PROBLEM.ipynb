{
 "cells": [
  {
   "cell_type": "code",
   "execution_count": 1,
   "id": "parental-satisfaction",
   "metadata": {},
   "outputs": [
    {
     "name": "stdout",
     "output_type": "stream",
     "text": [
      "Welcome to JupyROOT 6.22/06\n"
     ]
    }
   ],
   "source": [
    "import ROOT as r\n",
    "import numpy as np"
   ]
  },
  {
   "cell_type": "markdown",
   "id": "thorough-point",
   "metadata": {},
   "source": [
    "This code does not give the right value for nPz for a given event from `momentumFuncBoost.ipybn` (See cell with print commands: print(eArr[0]),...).\n",
    "\n",
    "Code is similar to the one for minimizing loss function for the stationary W case. The possible problems can be either the \"complicated\" mass function or larger number of parameters. I am not sure yet what it is."
   ]
  },
  {
   "cell_type": "code",
   "execution_count": 2,
   "id": "disturbed-scanning",
   "metadata": {},
   "outputs": [],
   "source": [
    "eArr = np.array([36.72802525,-2.40983846,-12.08513295,38.7402323])\n",
    "wArr = np.array([0.0, 0.0, 8.0704536, 80.704536])"
   ]
  },
  {
   "cell_type": "code",
   "execution_count": 3,
   "id": "developmental-catalyst",
   "metadata": {},
   "outputs": [],
   "source": [
    "%%cpp -d   \n",
    "\n",
    "void fcn(int &npar, double *gin, double &f, double *par, int iflag){\n",
    "    double pTSq = par[0];\n",
    "    double pTotSq = par[1];\n",
    "    double ePz = par[2];\n",
    "    double nPz = par[3];\n",
    "\n",
    "    double wMass = TMath::Sqrt(2*pow(pTSq,2) + 2 * TMath::Sqrt(pTotSq) * TMath::Sqrt(pTSq + pow(nPz,2)) - 2 * ePz * nPz);\n",
    "\n",
    "    f = pow(wMass - 80.3, 2);\n",
    "};\n",
    "\n",
    "double minimization_func(double *wArr, double *elArr){\n",
    "    double ePx = elArr[0];\n",
    "    double ePy = elArr[1];\n",
    "    double ePz = elArr[2];\n",
    "    \n",
    "    double pTSqEl = pow(ePx,2) + pow(ePy,2);\n",
    "    double pTotSqEl = pTSqEl + pow(ePz,2);  \n",
    "    \n",
    "    TMinuit *gMinuit = new TMinuit(4);\n",
    "    gMinuit->SetFCN(fcn);\n",
    "    gMinuit->DefineParameter(0, \"pTotSqEl\", pTSqEl, 1., 0., 0.);\n",
    "    gMinuit->DefineParameter(1, \"pTSqEl\", pTotSqEl, 1., 0., 0.);\n",
    "    gMinuit->DefineParameter(2, \"ePz\", ePz, 1., 0., 0.);\n",
    "    gMinuit->DefineParameter(3, \"nPz\", 22., 0.05, 0., 0.);\n",
    "    gMinuit->FixParameter(0);\n",
    "    gMinuit->FixParameter(1);\n",
    "    gMinuit->FixParameter(2);\n",
    "    gMinuit->Command(\"MIGRAD\");\n",
    "\n",
    "    double nPz, nPzErr;\n",
    "    gMinuit->GetParameter(3, nPz, nPzErr);\n",
    "    return nPz;\n",
    "\n",
    "};"
   ]
  },
  {
   "cell_type": "code",
   "execution_count": 4,
   "id": "widespread-mixer",
   "metadata": {},
   "outputs": [
    {
     "data": {
      "text/plain": [
       "-12.085132958419432"
      ]
     },
     "execution_count": 4,
     "metadata": {},
     "output_type": "execute_result"
    },
    {
     "name": "stdout",
     "output_type": "stream",
     "text": [
      " PARAMETER DEFINITIONS:\n",
      "    NO.   NAME         VALUE      STEP SIZE      LIMITS\n",
      "     1 pTotSqEl     1.35476e+03  1.00000e+00     no limits\n",
      "     2 pTSqEl       1.50081e+03  1.00000e+00     no limits\n",
      "     3 ePz         -1.20851e+01  1.00000e+00     no limits\n",
      "     4 nPz          2.20000e+01  5.00000e-02     no limits\n",
      " **********\n",
      " **    1 **FIX           1\n",
      " **********\n",
      " **********\n",
      " **    2 **FIX           2\n",
      " **********\n",
      " **********\n",
      " **    3 **FIX           3\n",
      " **********\n",
      " **********\n",
      " **    4 **MIGRAD \n",
      " **********\n",
      " FIRST CALL TO USER FUNCTION AT NEW START POINT, WITH IFLAG=4.\n",
      " START MIGRAD MINIMIZATION.  STRATEGY  1.  CONVERGENCE WHEN EDM .LT. 1.00e-04\n",
      " FCN=3.3717e+06 FROM MIGRAD    STATUS=INITIATE        4 CALLS           5 TOTAL\n",
      "                     EDM= unknown      STRATEGY= 1      NO ERROR MATRIX       \n",
      "  EXT PARAMETER               CURRENT GUESS       STEP         FIRST   \n",
      "  NO.   NAME      VALUE            ERROR          SIZE      DERIVATIVE \n",
      "   1  pTotSqEl     1.35476e+03     fixed    \n",
      "   2  pTSqEl       1.50081e+03     fixed    \n",
      "   3  ePz         -1.20851e+01     fixed    \n",
      "   4  nPz          2.20000e+01   5.00000e-02   5.00000e-02   6.12292e+01\n",
      " MIGRAD FAILS TO FIND IMPROVEMENT\n",
      " MIGRAD MINIMIZATION HAS CONVERGED.\n",
      " MIGRAD WILL VERIFY CONVERGENCE AND ERROR MATRIX.\n",
      " COVARIANCE MATRIX CALCULATED SUCCESSFULLY\n",
      " FCN=3.3706e+06 FROM MIGRAD    STATUS=CONVERGED      35 CALLS          36 TOTAL\n",
      "                     EDM=3.87179e-08    STRATEGY= 1      ERROR MATRIX ACCURATE \n",
      "  EXT PARAMETER                                   STEP         FIRST   \n",
      "  NO.   NAME      VALUE            ERROR          SIZE      DERIVATIVE \n",
      "   1  pTotSqEl     1.35476e+03     fixed    \n",
      "   2  pTSqEl       1.50081e+03     fixed    \n",
      "   3  ePz         -1.20851e+01     fixed    \n",
      "   4  nPz         -1.20851e+01   1.07545e+00   9.63909e-01   2.58750e-04\n",
      " EXTERNAL ERROR MATRIX.    NDIM=  25    NPAR=  1    ERR DEF=1\n",
      "  1.157e+00 \n"
     ]
    }
   ],
   "source": [
    "r.minimization_func(wArr,eArr)"
   ]
  },
  {
   "cell_type": "code",
   "execution_count": null,
   "id": "wooden-painting",
   "metadata": {},
   "outputs": [],
   "source": []
  }
 ],
 "metadata": {
  "kernelspec": {
   "display_name": "Python 3",
   "language": "python",
   "name": "python3"
  },
  "language_info": {
   "codemirror_mode": {
    "name": "ipython",
    "version": 3
   },
   "file_extension": ".py",
   "mimetype": "text/x-python",
   "name": "python",
   "nbconvert_exporter": "python",
   "pygments_lexer": "ipython3",
   "version": "3.8.5"
  }
 },
 "nbformat": 4,
 "nbformat_minor": 5
}
