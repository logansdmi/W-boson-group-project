{
 "cells": [
  {
   "cell_type": "code",
   "execution_count": 1,
   "id": "miniature-benefit",
   "metadata": {},
   "outputs": [
    {
     "name": "stdout",
     "output_type": "stream",
     "text": [
      "Welcome to JupyROOT 6.22/06\n"
     ]
    }
   ],
   "source": [
    "from ROOT import TLorentzVector\n",
    "from ROOT import Math\n",
    "import numpy as np"
   ]
  },
  {
   "cell_type": "code",
   "execution_count": 8,
   "id": "dramatic-jumping",
   "metadata": {},
   "outputs": [],
   "source": [
    "def thetaPhi():\n",
    "    '''returns random theta and phi values'''\n",
    "    theta = np.random.uniform(0,2*np.pi)\n",
    "    phi = np.random.uniform(0,np.pi)\n",
    "    return theta, phi\n",
    "\n",
    "def momenta(mag, theta, phi):\n",
    "    '''given an input magnitude, theta and phi the cartesian momenta are returned'''\n",
    "    Px = mag * np.sin(theta) * np.cos(phi) \n",
    "    Py = mag * np.sin(theta) * np.sin(phi)\n",
    "    Pz = mag * np.cos(theta)\n",
    "    \n",
    "    return Px, Py, Pz\n",
    "\n",
    "def vector(g, theta, phi, mag, mass):\n",
    "    '''given a tlorentzvector g the cartesian components are set with the circular components and the mass'''\n",
    "    Px, Py, Pz = momenta(mag, theta, phi)\n",
    "    g.SetPxPyPzE(Px, Py, Pz, mass)\n",
    "    \n",
    "    \n",
    "def boost(px, py, pz, e, beta):\n",
    "    '''input 4 momenta of particle wanted to be boosted, and beta the ratio v/c which it is boosted by\n",
    "    returns the new boosted 4 momenta'''\n",
    "    #initialising arrays for boosted momenta\n",
    "    boostx = np.zeros([len(px)])\n",
    "    boosty = np.zeros([len(px)])\n",
    "    boostz = np.zeros([len(px)])\n",
    "    booste = np.zeros([len(px)])\n",
    "    \n",
    "    #looping over momenta values   \n",
    "    for i in range(len(px)):\n",
    "        vec = Math.LorentzVector('ROOT::Math::PxPyPzE4D<double>')(px[i], py[i], pz[i], e[i]) #using this type of lorentzvec works better\n",
    "        boost = Math.VectorUtil.boostZ(vec, beta) # boosting by factor beta\n",
    "        #components from the boosted lorentzvector are appended to arrays for momenta\n",
    "        boostx[i], boosty[i], boostz[i], booste[i] = boost.Px(), boost.Py(), boost.Pz(), boost.E()\n",
    "        \n",
    "        \n",
    "    return boostx,boosty,boostz,booste\n",
    "\n",
    "def momentaArr(px, py, pz, e):\n",
    "    '''inputs the arrays of each momemtum component and returns them as a single array with all compoents'''\n",
    "    momenta = np.zeros([len(px),4])\n",
    "    for i in range(len(px)):\n",
    "        momenta[i,0] = px[i]\n",
    "        momenta[i,1] = py[i]\n",
    "        momenta[i,2] = pz[i]\n",
    "        momenta[i,3] = e[i]\n",
    "        \n",
    "    return momenta\n",
    "\n",
    "def wArr(num):\n",
    "    '''just for making numpy array of stationary w given the number of events'''\n",
    "    momenta = np.zeros([num,4])\n",
    "    momenta[:,3] = wMass\n",
    "    \n",
    "    return momenta"
   ]
  },
  {
   "cell_type": "code",
   "execution_count": 3,
   "id": "young-subcommittee",
   "metadata": {},
   "outputs": [
    {
     "name": "stdout",
     "output_type": "stream",
     "text": [
      "(39.64163106833054, 21.656321754097934, 66.02684919277426)\n"
     ]
    }
   ],
   "source": [
    "print(momenta(80, 0.6, 0.5))"
   ]
  },
  {
   "cell_type": "code",
   "execution_count": 4,
   "id": "prostate-monday",
   "metadata": {},
   "outputs": [
    {
     "name": "stdout",
     "output_type": "stream",
     "text": [
      "40.149999998443334\n"
     ]
    }
   ],
   "source": [
    "#defining mass of particles (all in GeV/c^2)\n",
    "wMass = 80.3\n",
    "\n",
    "eMass = 0.0005\n",
    "\n",
    "nMass = 0\n",
    "\n",
    "# equations for this bit found here: http://www.phys.ufl.edu/~avery/course/4390/f2015/lectures/relativistic_kinematics_2.pdf\n",
    "\n",
    "eE = (wMass**2 + eMass**2)/(2*wMass) # energy of the electron\n",
    "\n",
    "mag = np.sqrt(eE**2 - eMass**2) # momentum magnitude \n",
    "\n",
    "print(mag)\n",
    "\n",
    "# setting up particles\n",
    "w = TLorentzVector()\n",
    "#stationary w\n",
    "w.SetPxPyPzE(0,0,0, wMass)\n",
    "\n",
    "e = TLorentzVector()\n",
    "n = TLorentzVector()\n"
   ]
  },
  {
   "cell_type": "code",
   "execution_count": 5,
   "id": "spectacular-nitrogen",
   "metadata": {},
   "outputs": [],
   "source": [
    " def components(num):\n",
    "    '''given a number of events wanted, returns arrays of the components of the electron and neutrinos\n",
    "    in the frame of the wboson'''\n",
    "    \n",
    "    #initialising arrays for components\n",
    "    ePx = np.zeros(num)\n",
    "    ePy = np.zeros(num)\n",
    "    ePz = np.zeros(num)\n",
    "    eE = np.zeros(num)\n",
    "\n",
    "    nPx = np.zeros(num)\n",
    "    nPy = np.zeros(num)\n",
    "    nPz = np.zeros(num)\n",
    "    nE = np.zeros(num)\n",
    "    \n",
    "    # looping over number of events and filling component arrays\n",
    "    for i in range(num):\n",
    "        #making e components\n",
    "        thetae, phie = thetaPhi()\n",
    "        vector(e, thetae, phie, mag, wMass/2)\n",
    "        \n",
    "        ePx[i] = e.Px()\n",
    "        ePy[i] = e.Py()\n",
    "         m[i] = e.Pz()\n",
    "        eE[i] = e.E()\n",
    "               \n",
    "        #making neutrino components\n",
    "        n = w - e\n",
    "        #n.SetE(nMass)\n",
    "               \n",
    "        nPx[i] = n.Px()\n",
    "        nPy[i] = n.Py()\n",
    "        nPz[i] = n.Pz()\n",
    "        nE[i] = n.E()\n",
    "        \n",
    "    return ePx, ePy, ePz, eE, nPx, nPy, nPz, nE\n"
   ]
  },
  {
   "cell_type": "code",
   "execution_count": 13,
   "id": "homeless-replica",
   "metadata": {},
   "outputs": [],
   "source": [
    "# making num events worth of components\n",
    "num = 10\n",
    "ePx, ePy, ePz, eE, nPx, nPy, nPz, nE = components(num)\n",
    "wArray =  wArr(num)\n",
    "wPx, wPy, wPz, wE = wArray[:,0], wArray[:,1], wArray[:,2], wArray[:,3] \n",
    "\n",
    "beta = 0.1\n",
    "\n",
    "#applying the boost to the particles \n",
    "wPx, wPy, wPz, wE = boost(wPx, wPy, wPz, wE, beta)\n",
    "ePx, ePy, ePz, eE = boost(ePx, ePy, ePz, eE, beta)\n",
    "nPx, nPy, nPz, nE = boost(nPx, nPy, nPz, nE, beta)\n",
    "\n",
    "#putting momentas into arrays\n",
    "wArray = momentaArr(wPx, wPy, wPz, wE)\n",
    "eArr = momentaArr(ePx, ePy, ePz, eE)\n",
    "nArr = momentaArr(nPx, nPy, nPz, nE)"
   ]
  },
  {
   "cell_type": "code",
   "execution_count": 15,
   "id": "impossible-vessel",
   "metadata": {},
   "outputs": [
    {
     "name": "stdout",
     "output_type": "stream",
     "text": [
      "[ 36.72802525  -2.40983846 -12.08513295  38.7402323 ]\n",
      "[-36.72802525   2.40983846  20.15558661  41.96430426]\n",
      "[[ 0.          0.          8.07045366 80.70453657]\n",
      " [ 0.          0.          8.07045366 80.70453657]\n",
      " [ 0.          0.          8.07045366 80.70453657]\n",
      " [ 0.          0.          8.07045366 80.70453657]\n",
      " [ 0.          0.          8.07045366 80.70453657]\n",
      " [ 0.          0.          8.07045366 80.70453657]\n",
      " [ 0.          0.          8.07045366 80.70453657]\n",
      " [ 0.          0.          8.07045366 80.70453657]\n",
      " [ 0.          0.          8.07045366 80.70453657]\n",
      " [ 0.          0.          8.07045366 80.70453657]]\n"
     ]
    }
   ],
   "source": [
    "print(eArr[0])\n",
    "print(nArr[0])\n",
    "print(wArray)"
   ]
  },
  {
   "cell_type": "markdown",
   "id": "polyphonic-encoding",
   "metadata": {},
   "source": [
    "this bit is just some testing and can be ignored:"
   ]
  },
  {
   "cell_type": "code",
   "execution_count": null,
   "id": "authentic-detail",
   "metadata": {},
   "outputs": [],
   "source": [
    "#checking to see the boost function has worked properly on the e and n\n",
    "e.SetPxPyPzE(ePx[0], ePy[0], ePz[0], eE[0])\n",
    "n.SetPxPyPzE(nPx[0], nPy[0], nPz[0], nE[0])\n",
    "\n",
    "v = TLorentzVector()\n",
    "v = e + n\n",
    "\n",
    "print(v.E())\n",
    "\n",
    "wmath = Math.LorentzVector('ROOT::Math::PxPyPzE4D<double>')(0,0,0,wMass)\n",
    "\n",
    "beta = 0.1 # ratio v/c which z component of w is boosted by\n",
    "\n",
    "wBoost = Math.VectorUtil.boostZ(wmath, beta)\n",
    "print(wBoost)\n",
    "w.SetPxPyPzE(wBoost.Px(), wBoost.Py(),wBoost.Pz(),wBoost.E())\n",
    "\n",
    "b = e.BoostVector()\n",
    "wb = Math.LorentzVector('ROOT::Math::PxPyPzE4D<double>')(w.Px(),w.Py(),w.Pz(),w.E())\n",
    "\n",
    "wboo = Math.VectorUtil.boost(wb, b)\n",
    "\n",
    "print(wboo)"
   ]
  },
  {
   "cell_type": "code",
   "execution_count": null,
   "id": "sharp-header",
   "metadata": {},
   "outputs": [],
   "source": []
  }
 ],
 "metadata": {
  "kernelspec": {
   "display_name": "Python 3",
   "language": "python",
   "name": "python3"
  },
  "language_info": {
   "codemirror_mode": {
    "name": "ipython",
    "version": 3
   },
   "file_extension": ".py",
   "mimetype": "text/x-python",
   "name": "python",
   "nbconvert_exporter": "python",
   "pygments_lexer": "ipython3",
   "version": "3.8.6"
  }
 },
 "nbformat": 4,
 "nbformat_minor": 5
}
