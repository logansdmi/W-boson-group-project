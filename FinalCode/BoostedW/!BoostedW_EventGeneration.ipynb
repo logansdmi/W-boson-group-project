{
 "cells": [
  {
   "cell_type": "code",
   "execution_count": 1,
   "id": "friendly-institute",
   "metadata": {},
   "outputs": [
    {
     "name": "stdout",
     "output_type": "stream",
     "text": [
      "Welcome to JupyROOT 6.22/06\n"
     ]
    }
   ],
   "source": [
    "import ROOT as r\n",
    "import numpy as np"
   ]
  },
  {
   "cell_type": "code",
   "execution_count": 2,
   "id": "patient-cleaners",
   "metadata": {},
   "outputs": [],
   "source": [
    "def thetaPhi():\n",
    "    '''returns random theta and phi values'''\n",
    "    theta = np.random.uniform(0,2*np.pi)\n",
    "    phi = np.random.uniform(0,np.pi)\n",
    "    return theta, phi\n",
    "\n",
    "def momenta(mag, theta, phi):\n",
    "    '''given an input magnitude, theta and phi the cartesian momenta are returned'''\n",
    "    Px = mag * np.sin(theta) * np.cos(phi) \n",
    "    Py = mag * np.sin(theta) * np.sin(phi)\n",
    "    Pz = mag * np.cos(theta)\n",
    "    \n",
    "    return Px, Py, Pz\n",
    "\n",
    "def vector(g, theta, phi, mag, mass):\n",
    "    '''given a tlorentzvector g the cartesian components are set with the circular components and the mass'''\n",
    "    Px, Py, Pz = momenta(mag, theta, phi)\n",
    "    g.SetPxPyPzE(Px, Py, Pz, mass)\n",
    "    \n",
    "    \n",
    "def boost(px, py, pz, e, beta):\n",
    "    '''input 4 momenta of particle wanted to be boosted, and beta the ratio v/c which it is boosted by\n",
    "    returns the new boosted 4 momenta'''\n",
    "    #initialising arrays for boosted momenta\n",
    "    boostx = np.zeros([len(px)])\n",
    "    boosty = np.zeros([len(px)])\n",
    "    boostz = np.zeros([len(px)])\n",
    "    booste = np.zeros([len(px)])\n",
    "    \n",
    "    #looping over momenta values   \n",
    "    for i in range(len(px)):\n",
    "        vec = r.Math.LorentzVector('ROOT::Math::PxPyPzE4D<double>')(px[i], py[i], pz[i], e[i]) #using this type of lorentzvec works better\n",
    "        boost = r.Math.VectorUtil.boostZ(vec, beta) # boosting by factor beta\n",
    "        #components from the boosted lorentzvector are appended to arrays for momenta\n",
    "        boostx[i], boosty[i], boostz[i], booste[i] = boost.Px(), boost.Py(), boost.Pz(), boost.E()\n",
    "        \n",
    "        \n",
    "    return boostx,boosty,boostz,booste\n",
    "\n",
    "def wArr(num):\n",
    "    '''just for making numpy array of stationary w given the number of events'''\n",
    "    momenta = np.zeros([num,4])\n",
    "    momenta[:,3] = wMass\n",
    "    \n",
    "    return momenta"
   ]
  },
  {
   "cell_type": "code",
   "execution_count": 3,
   "id": "opening-cache",
   "metadata": {},
   "outputs": [
    {
     "name": "stdout",
     "output_type": "stream",
     "text": [
      "40.149999998443334\n"
     ]
    }
   ],
   "source": [
    "wMass = 80.3\n",
    "\n",
    "eMass = 0.0005\n",
    "\n",
    "nMass = 0\n",
    "\n",
    "# equations for this bit found here: http://www.phys.ufl.edu/~avery/course/4390/f2015/lectures/relativistic_kinematics_2.pdf\n",
    "\n",
    "eE = (wMass**2 + eMass**2)/(2*wMass) # energy of the electron\n",
    "\n",
    "mag = np.sqrt(eE**2 - eMass**2) # momentum magnitude \n",
    "\n",
    "print(mag)\n",
    "\n",
    "# setting up particles\n",
    "w = r.TLorentzVector()\n",
    "#stationary w\n",
    "w.SetPxPyPzE(0,0,0, wMass)\n",
    "\n",
    "e = r.TLorentzVector()\n",
    "n = r.TLorentzVector()"
   ]
  },
  {
   "cell_type": "code",
   "execution_count": 4,
   "id": "twenty-running",
   "metadata": {},
   "outputs": [],
   "source": [
    "def components(num):\n",
    "    '''given a number of events wanted, returns arrays of the components of the electron and neutrinos\n",
    "    in the frame of the wboson'''\n",
    "    \n",
    "    #initialising arrays for components\n",
    "    ePx = np.zeros(num)\n",
    "    ePy = np.zeros(num)\n",
    "    ePz = np.zeros(num)\n",
    "    eE = np.zeros(num)\n",
    "    \n",
    "    # looping over number of events and filling component arrays\n",
    "    for i in range(num):\n",
    "        #making e components\n",
    "        thetae, phie = thetaPhi()\n",
    "        vector(e, thetae, phie, mag, wMass/2)\n",
    "        \n",
    "        ePx[i] = e.Px()\n",
    "        ePy[i] = e.Py()\n",
    "        ePz[i] = e.Pz()\n",
    "        eE[i] = e.E()\n",
    "        \n",
    "    return ePx, ePy, ePz, eE"
   ]
  },
  {
   "cell_type": "code",
   "execution_count": 5,
   "id": "understood-radar",
   "metadata": {},
   "outputs": [],
   "source": [
    "# making num events worth of components\n",
    "numberOfEvents = 10\n",
    "ePx, ePy, ePz, eE = components(numberOfEvents)\n",
    "wArray =  wArr(numberOfEvents)\n",
    "wPx, wPy, wPz, wE = wArray[:,0], wArray[:,1], wArray[:,2], wArray[:,3] \n",
    "\n",
    "beta = 0.1\n",
    "\n",
    "#applying the boost to the particles \n",
    "wPx, wPy, wPz, wE = boost(wPx, wPy, wPz, wE, beta)\n",
    "ePx, ePy, ePz, eE = boost(ePx, ePy, ePz, eE, beta)"
   ]
  },
  {
   "cell_type": "code",
   "execution_count": 6,
   "id": "phantom-toilet",
   "metadata": {},
   "outputs": [
    {
     "data": {
      "text/plain": [
       "<cppyy.gbl.TBranch object at 0x7cd3550>"
      ]
     },
     "execution_count": 6,
     "metadata": {},
     "output_type": "execute_result"
    }
   ],
   "source": [
    "tree = r.TTree(\"tree\", \"initial random e and n components\")\n",
    "\n",
    "wBranch = np.zeros(4)\n",
    "eBranch = np.zeros(4)\n",
    "\n",
    "tree.Branch(\"wBoson\",wBranch,\"wArray[4]/D\")\n",
    "tree.Branch(\"electron\",eBranch,\"elArray[4]/D\")"
   ]
  },
  {
   "cell_type": "code",
   "execution_count": 7,
   "id": "dangerous-smell",
   "metadata": {},
   "outputs": [],
   "source": [
    "for i in range(len(ePx)):\n",
    "    wBranch[2] = wPz[i]\n",
    "    wBranch[3] = wE[i] \n",
    "    \n",
    "    eBranch[0] = ePx[i]\n",
    "    eBranch[1] = ePy[i]\n",
    "    eBranch[2] = ePz[i]\n",
    "    eBranch[3] = eE[i]\n",
    "   \n",
    "    tree.Fill()"
   ]
  },
  {
   "cell_type": "markdown",
   "id": "available-survivor",
   "metadata": {},
   "source": [
    "We can scan the tree to see Values of W boson and electron."
   ]
  },
  {
   "cell_type": "code",
   "execution_count": 8,
   "id": "golden-concrete",
   "metadata": {},
   "outputs": [
    {
     "data": {
      "text/plain": [
       "40"
      ]
     },
     "execution_count": 8,
     "metadata": {},
     "output_type": "execute_result"
    },
    {
     "name": "stdout",
     "output_type": "stream",
     "text": [
      "***********************************************\n",
      "*    Row   * Instance * wBoson.wB * electron. *\n",
      "***********************************************\n",
      "*        0 *        0 *         0 * -8.213797 *\n",
      "*        0 *        1 *         0 * -1.759209 *\n",
      "*        0 *        2 * 8.0704536 * -35.42401 *\n",
      "*        0 *        3 * 80.704536 * 36.406344 *\n",
      "*        1 *        0 *         0 * -29.09737 *\n",
      "*        1 *        1 *         0 * 0.0803621 *\n",
      "*        1 *        2 * 8.0704536 * 31.839719 *\n",
      "*        1 *        3 * 80.704536 * 43.132717 *\n",
      "*        2 *        0 *         0 * 7.4278055 *\n",
      "*        2 *        1 *         0 * 12.739963 *\n",
      "*        2 *        2 * 8.0704536 * 41.566944 *\n",
      "*        2 *        3 * 80.704536 * 44.105440 *\n",
      "*        3 *        0 *         0 * 26.676696 *\n",
      "*        3 *        1 *         0 * 21.659858 *\n",
      "*        3 *        2 * 8.0704536 * -16.83539 *\n",
      "*        3 *        3 * 80.704536 * 38.265206 *\n",
      "*        4 *        0 *         0 * 16.748908 *\n",
      "*        4 *        1 *         0 * -33.34872 *\n",
      "*        4 *        2 * 8.0704536 * -10.85015 *\n",
      "*        4 *        3 * 80.704536 * 38.863729 *\n",
      "*        5 *        0 *         0 * 12.705228 *\n",
      "*        5 *        1 *         0 * -18.42023 *\n",
      "*        5 *        2 * 8.0704536 * -29.46880 *\n",
      "*        5 *        3 * 80.704536 * 37.001865 *\n",
      "*        6 *        0 *         0 * 34.045942 *\n",
      "*        6 *        1 *         0 * 11.880758 *\n",
      "*        6 *        2 * 8.0704536 * 21.780446 *\n",
      "*        6 *        3 * 80.704536 * 42.126790 *\n",
      "*        7 *        0 *         0 * 10.365490 *\n",
      "*        7 *        1 *         0 * -1.620141 *\n",
      "*        7 *        2 * 8.0704536 * -34.91506 *\n",
      "*        7 *        3 * 80.704536 * 36.457238 *\n",
      "*        8 *        0 *         0 * 13.115256 *\n",
      "*        8 *        1 *         0 *  -37.9447 *\n",
      "*        8 *        2 * 8.0704536 * 3.5721404 *\n",
      "*        8 *        3 * 80.704536 * 40.305959 *\n",
      "*        9 *        0 *         0 * -21.97499 *\n",
      "*        9 *        1 *         0 * 10.908147 *\n",
      "*        9 *        2 * 8.0704536 * -27.90749 *\n",
      "*        9 *        3 * 80.704536 * 37.157995 *\n",
      "***********************************************\n"
     ]
    },
    {
     "name": "stderr",
     "output_type": "stream",
     "text": [
      "Type <CR> to continue or q to quit ==> "
     ]
    }
   ],
   "source": [
    "tree.Scan()"
   ]
  },
  {
   "cell_type": "code",
   "execution_count": 9,
   "id": "described-bench",
   "metadata": {},
   "outputs": [
    {
     "data": {
      "text/plain": [
       "<cppyy.CPPOverload at 0x7f79a28c79d0>"
      ]
     },
     "execution_count": 9,
     "metadata": {},
     "output_type": "execute_result"
    }
   ],
   "source": [
    "file = r.TFile(\"generatedComponentsBOOST.root\",\"recreate\")\n",
    "tree.Write()\n",
    "file.Close"
   ]
  }
 ],
 "metadata": {
  "kernelspec": {
   "display_name": "Python 3",
   "language": "python",
   "name": "python3"
  },
  "language_info": {
   "codemirror_mode": {
    "name": "ipython",
    "version": 3
   },
   "file_extension": ".py",
   "mimetype": "text/x-python",
   "name": "python",
   "nbconvert_exporter": "python",
   "pygments_lexer": "ipython3",
   "version": "3.8.5"
  }
 },
 "nbformat": 4,
 "nbformat_minor": 5
}
