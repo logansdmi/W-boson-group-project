{
 "cells": [
  {
   "cell_type": "code",
   "execution_count": 1,
   "id": "dried-combat",
   "metadata": {},
   "outputs": [
    {
     "name": "stdout",
     "output_type": "stream",
     "text": [
      "Welcome to JupyROOT 6.22/06\n"
     ]
    }
   ],
   "source": [
    "from ROOT import TLorentzVector\n",
    "from ROOT import Math\n",
    "import numpy as np"
   ]
  },
  {
   "cell_type": "code",
   "execution_count": 2,
   "id": "tropical-webmaster",
   "metadata": {},
   "outputs": [],
   "source": [
    "def thetaPhi():\n",
    "    '''returns random theta and phi values'''\n",
    "    theta = np.random.uniform(0,2*np.pi)\n",
    "    phi = np.random.uniform(0,np.pi)\n",
    "    return theta, phi\n",
    "\n",
    "def momenta(mag, theta, phi):\n",
    "    '''given an input magnitude, theta and phi the cartesian momenta are returned'''\n",
    "    Px = mag * np.sin(theta) * np.cos(phi) \n",
    "    Py = mag * np.sin(theta) * np.sin(phi)\n",
    "    Pz = mag * np.cos(theta)\n",
    "    \n",
    "    return Px, Py, Pz\n",
    "    \n",
    "\n",
    "def wArr(num):\n",
    "    '''just for making numpy array of stationary w given the number of events'''\n",
    "    momenta = np.zeros([num,4])\n",
    "    momenta[:,3] = wMass\n",
    "    \n",
    "    return momenta\n",
    "\n",
    "def vecToArr(vec):\n",
    "    '''converts lorentzvector to array of components'''\n",
    "    arr = np.zeros([4])\n",
    "    arr[0] = vec.Px()\n",
    "    arr[1] = vec.Py()\n",
    "    arr[2] = vec.Pz()\n",
    "    arr[3] = vec.E()\n",
    "    \n",
    "    return arr"
   ]
  },
  {
   "cell_type": "code",
   "execution_count": 3,
   "id": "occupational-pillow",
   "metadata": {},
   "outputs": [],
   "source": [
    "def backToBack(beta):\n",
    "    '''from a given beta (ratio v/c) of the initial particles produces numpy array of 4 momenta of\n",
    "    w pair with one hadronic decay and one leptonic decay'''\n",
    "    event = np.zeros([6,4])\n",
    "    # making back to back w bosons (stationary)\n",
    "    wMass = 80.3\n",
    "    \n",
    "    wmag = 3 # ??\n",
    "    \n",
    "    theta, phi = thetaPhi()\n",
    "    Px, Py, Pz = momenta(wmag, theta, phi)\n",
    "\n",
    "    w1 = Math.LorentzVector('ROOT::Math::PxPyPzE4D<double>')(Px, Py, Pz, wMass)\n",
    "    w2 = Math.LorentzVector('ROOT::Math::PxPyPzE4D<double>')(-Px, -Py, -Pz, wMass)\n",
    "\n",
    "    #boosting the Ws\n",
    "    beta = beta\n",
    "    boostedW1 = Math.VectorUtil.boostZ(w1, beta)\n",
    "    w1Arr = vecToArr(boostedW1)\n",
    "    boostedW2 = Math.VectorUtil.boostZ(w2, beta)\n",
    "    w2Arr = vecToArr(boostedW2)\n",
    "\n",
    "    # have to make them into tlorentzvectors for the boostvector function to work\n",
    "    boow1 = TLorentzVector()\n",
    "    boow1.SetPxPyPzE(boostedW1.Px(), boostedW1.Py(), boostedW1.Pz(), boostedW1.E())\n",
    "    boow2 = TLorentzVector()\n",
    "    boow2.SetPxPyPzE(boostedW2.Px(), boostedW2.Py(), boostedW2.Pz(), boostedW2.E())\n",
    "\n",
    "    #making boost vectors for the daughter particles of each w\n",
    "    boost1 = boow1.BoostVector()\n",
    "    boost2 = boow2.BoostVector()\n",
    "\n",
    "\n",
    "    #making the hadronic decay particles this will use w1 as its parent\n",
    "    #in w1 rest frame to start\n",
    "    ej = wMass/2\n",
    "    thetaj, phij = thetaPhi()\n",
    "    Px, Py, Pz = momenta(ej, thetaj, phij)\n",
    "    j1 = Math.LorentzVector('ROOT::Math::PxPyPzE4D<double>')(Px, Py, Pz, ej)\n",
    "    j2 = Math.LorentzVector('ROOT::Math::PxPyPzE4D<double>')(-Px, -Py, -Pz, ej)\n",
    "\n",
    "    # boosting jets to frame of W1\n",
    "    j1Boost = Math.VectorUtil.boost(j1, boost1)\n",
    "    j1Arr = vecToArr(j1Boost)\n",
    "    j2Boost = Math.VectorUtil.boost(j2, boost1)\n",
    "    j2Arr = vecToArr(j2Boost)\n",
    "\n",
    "    # making leptonic decay particles using W2 as parent\n",
    "    # w2 rest frame to start\n",
    "    eE = wMass / 2\n",
    "    thetae, phie = thetaPhi()\n",
    "    Px, Py, Pz = momenta(eE, thetae, phie)\n",
    "    e = Math.LorentzVector('ROOT::Math::PxPyPzE4D<double>')(Px, Py, Pz, eE)\n",
    "    n = Math.LorentzVector('ROOT::Math::PxPyPzE4D<double>')(-Px, -Py, -Pz, eE)\n",
    "\n",
    "    #boosting e and n to frame of W2\n",
    "    eBoost = Math.VectorUtil.boost(e, boost2)\n",
    "    eArr = vecToArr(eBoost)\n",
    "    nBoost = Math.VectorUtil.boost(n, boost2)\n",
    "    nArr = vecToArr(nBoost)\n",
    "\n",
    "    #putting all particles into one array\n",
    "    event[0] = w1Arr\n",
    "    event[1] = w2Arr\n",
    "    event[2] = j1Arr\n",
    "    event[3] = j2Arr\n",
    "    event[4] = eArr\n",
    "    event[5] = nArr\n",
    "    \n",
    "    return event"
   ]
  },
  {
   "cell_type": "markdown",
   "id": "colonial-salem",
   "metadata": {},
   "source": [
    "for the array 'event' which comes from above function the first entry is the w1 4 momenta, the 2nd is the w2 momenta, 3rd is jet 1, 4th is jet 2, 5th is the electron, and 6th is the neutrino"
   ]
  },
  {
   "cell_type": "code",
   "execution_count": 4,
   "id": "numerous-irish",
   "metadata": {},
   "outputs": [
    {
     "name": "stdout",
     "output_type": "stream",
     "text": [
      "[[  0.8138998   -2.34533545  27.01883969  84.70696978]\n",
      " [ -0.8138998    2.34533545  23.48752374  83.647575  ]\n",
      " [ 12.03829073  -9.08668193 -26.04271683  30.09503833]\n",
      " [-11.22382234   6.739708    53.08043222  54.6711088 ]\n",
      " [  9.08337975 -16.89928902 -24.45923372  31.08613632]\n",
      " [ -9.89784814  19.24626294  47.96316614  52.61987592]]\n"
     ]
    }
   ],
   "source": [
    "print(backToBack(0.3))"
   ]
  },
  {
   "cell_type": "code",
   "execution_count": 5,
   "id": "polish-silicon",
   "metadata": {},
   "outputs": [],
   "source": [
    "# looping this function can give big array of data\n",
    "num = 10\n",
    "events = np.zeros([num, 6, 4])\n",
    "beta = 0.1\n",
    "\n",
    "for i in range(num):\n",
    "    events[i] = backToBack(beta)"
   ]
  },
  {
   "cell_type": "code",
   "execution_count": 6,
   "id": "negative-james",
   "metadata": {},
   "outputs": [
    {
     "name": "stdout",
     "output_type": "stream",
     "text": [
      "[[[ 2.51050773e+00  1.64207791e+00  8.03978634e+00  8.07014698e+01]\n",
      "  [-2.51050773e+00 -1.64207791e+00  8.10112097e+00  8.07076033e+01]\n",
      "  [-9.42766108e-01 -1.02109403e+00 -3.62356904e+01  3.62623317e+01]\n",
      "  [ 3.45502771e+00  2.66431912e+00  4.42810934e+01  4.44955172e+01]\n",
      "  [ 2.97035314e+01  2.38403685e+01 -3.02039795e+00  3.82071427e+01]\n",
      "  [-3.22157930e+01 -2.54835936e+01  1.11271785e+01  4.25568439e+01]]\n",
      "\n",
      " [[-2.56517111e+00  2.69079919e-02  9.63365845e+00  8.08608570e+01]\n",
      "  [ 2.56517111e+00 -2.69079919e-02  6.50724886e+00  8.05482161e+01]\n",
      "  [-1.86468464e+01 -4.71494592e+00 -3.12663842e+01  3.67086145e+01]\n",
      "  [ 1.60798833e+01  4.74187271e+00  4.09067729e+01  4.42087329e+01]\n",
      "  [ 3.07454597e+01 -1.29724124e+01 -2.07665132e+01  3.93041327e+01]\n",
      "  [-2.81784965e+01  1.29454856e+01  2.72783081e+01  4.13003554e+01]]\n",
      "\n",
      " [[-1.16461461e+00  6.60604169e-01  1.07686152e+01  8.09743527e+01]\n",
      "  [ 1.16461461e+00 -6.60604169e-01  5.37229211e+00  8.04347204e+01]\n",
      "  [ 7.40050670e+00  8.79483307e+00  4.41534395e+01  4.56250239e+01]\n",
      "  [-8.56593492e+00 -8.13376740e+00 -3.33773012e+01  3.54058985e+01]\n",
      "  [ 9.03334840e+00 -3.91482113e+01 -3.12574682e+00  4.02983141e+01]\n",
      "  [-7.86792018e+00  3.84871456e+01  8.50179209e+00  4.01925990e+01]]\n",
      "\n",
      " [[-2.94651998e+00  5.42347619e-02  7.50630719e+00  8.06481219e+01]\n",
      "  [ 2.94651998e+00 -5.42347619e-02  8.63460012e+00  8.07609512e+01]\n",
      "  [-2.32733547e-01 -7.39716342e-01  4.40498971e+01  4.40567223e+01]\n",
      "  [-2.71584491e+00  7.93988993e-01 -3.65383459e+01  3.66477414e+01]\n",
      "  [-3.37160261e+01 -1.92989816e+01  2.19811191e+00  3.89108315e+01]\n",
      "  [ 3.66646046e+01  1.92447090e+01  6.44252045e+00  4.19065403e+01]]\n",
      "\n",
      " [[ 4.83642349e-01 -5.79802962e-01  5.15239449e+00  8.04127306e+01]\n",
      "  [-4.83642349e-01  5.79802962e-01  1.09885128e+01  8.09963425e+01]\n",
      "  [ 2.89457784e+01 -1.46567505e+01  2.67657820e+01  4.20604982e+01]\n",
      "  [-2.84617982e+01  1.40765425e+01 -2.16097880e+01  3.84084098e+01]\n",
      "  [ 1.58297872e+01  1.61370775e+01  3.90157077e+01  4.50911618e+01]\n",
      "  [-1.63137675e+01 -1.55568694e+01 -2.80195181e+01  3.59617657e+01]]\n",
      "\n",
      " [[ 1.52856511e+00  1.66234818e+00  6.08564081e+00  8.05060553e+01]\n",
      "  [-1.52856511e+00 -1.66234818e+00  1.00552665e+01  8.09030179e+01]\n",
      "  [-3.78287154e+01 -1.41584899e+00  1.38852272e+01  4.03214071e+01]\n",
      "  [ 3.93583484e+01  3.07935850e+00 -7.79533485e+00  4.02408907e+01]\n",
      "  [ 1.37514165e+01 -5.60191231e+00 -3.24104617e+01  3.56499776e+01]\n",
      "  [-1.52810495e+01  3.93840279e+00  4.24727530e+01  4.53095601e+01]]\n",
      "\n",
      " [[ 6.32547935e-01 -7.50502974e-01  5.22127720e+00  8.04196189e+01]\n",
      "  [-6.32547935e-01  7.50502974e-01  1.09196301e+01  8.09894542e+01]\n",
      "  [ 8.73043619e+00 -7.49016365e+00  4.13113837e+01  4.28830210e+01]\n",
      "  [-8.09744635e+00  6.73913637e+00 -3.60864589e+01  3.75927800e+01]\n",
      "  [-2.50544888e+00 -2.78174584e+01  3.41962367e+01  4.41528127e+01]\n",
      "  [ 1.87245904e+00  2.85684857e+01 -2.32689780e+01  3.68932218e+01]]\n",
      "\n",
      " [[-1.01545103e+00  2.72256126e+00  7.32069315e+00  8.06295605e+01]\n",
      "  [ 1.01545103e+00 -2.72256126e+00  8.82021416e+00  8.07795126e+01]\n",
      "  [ 3.63813579e+01 -1.28623755e+00  1.93131126e+01  4.12098766e+01]\n",
      "  [-3.73975183e+01  4.01070082e+00 -1.19873051e+01  3.94760128e+01]\n",
      "  [ 2.01549961e+01 -1.57090300e+01 -2.76471316e+01  3.76478602e+01]\n",
      "  [-1.91388357e+01  1.29845668e+01  3.64735077e+01  4.31880860e+01]]\n",
      "\n",
      " [[-8.34167147e-01 -4.22278545e-01  5.20550597e+00  8.04180418e+01]\n",
      "  [ 8.34167147e-01  4.22278545e-01  1.09354013e+01  8.09910313e+01]\n",
      "  [-3.22899229e+01  1.28359631e+01 -1.80615711e+01  3.91614788e+01]\n",
      "  [ 3.14551730e+01 -1.32585366e+01  2.32707137e+01  4.13127440e+01]\n",
      "  [ 6.43975499e+00 -5.72795985e+00 -3.41358825e+01  3.52070795e+01]\n",
      "  [-5.60500508e+00  6.15053340e+00  4.50789235e+01  4.58405332e+01]]\n",
      "\n",
      " [[ 9.51655525e-01  1.79361737e+00  1.02900379e+01  8.09264950e+01]\n",
      "  [-9.51655525e-01 -1.79361737e+00  5.85086946e+00  8.04825781e+01]\n",
      "  [ 1.10589095e+01  1.73382639e+01  4.05697147e+01  4.54842459e+01]\n",
      "  [-1.01065892e+01 -1.55433935e+01 -3.02724881e+01  3.54987853e+01]\n",
      "  [-2.83003868e+01 -1.14803804e+01 -2.40500297e+01  3.88730621e+01]\n",
      "  [ 2.73480665e+01  9.68550999e+00  2.99049867e+01  4.16657422e+01]]]\n"
     ]
    }
   ],
   "source": [
    "print(events)"
   ]
  },
  {
   "cell_type": "code",
   "execution_count": null,
   "id": "educational-administration",
   "metadata": {},
   "outputs": [],
   "source": []
  }
 ],
 "metadata": {
  "kernelspec": {
   "display_name": "Python 3",
   "language": "python",
   "name": "python3"
  },
  "language_info": {
   "codemirror_mode": {
    "name": "ipython",
    "version": 3
   },
   "file_extension": ".py",
   "mimetype": "text/x-python",
   "name": "python",
   "nbconvert_exporter": "python",
   "pygments_lexer": "ipython3",
   "version": "3.8.6"
  }
 },
 "nbformat": 4,
 "nbformat_minor": 5
}
