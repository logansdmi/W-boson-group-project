{
 "cells": [
  {
   "cell_type": "code",
   "execution_count": 1,
   "id": "cloudy-medicare",
   "metadata": {},
   "outputs": [
    {
     "name": "stdout",
     "output_type": "stream",
     "text": [
      "Welcome to JupyROOT 6.22/06\n"
     ]
    }
   ],
   "source": [
    "import ROOT as r\n",
    "import numpy as np"
   ]
  },
  {
   "cell_type": "code",
   "execution_count": 2,
   "id": "worse-anniversary",
   "metadata": {},
   "outputs": [],
   "source": [
    "def thetaPhi():\n",
    "    '''returns random theta and phi values'''\n",
    "    theta = np.random.uniform(0,2*np.pi)\n",
    "    phi = np.random.uniform(0,np.pi)\n",
    "    return theta, phi\n",
    "\n",
    "def momenta(mag, theta, phi):\n",
    "    '''given an input magnitude, theta and phi the cartesian momenta are returned'''\n",
    "    Px = mag * np.sin(theta) * np.cos(phi) \n",
    "    Py = mag * np.sin(theta) * np.sin(phi)\n",
    "    Pz = mag * np.cos(theta)\n",
    "    \n",
    "    return Px, Py, Pz\n",
    "    \n",
    "\n",
    "def wArr(num):\n",
    "    '''just for making numpy array of stationary w given the number of events'''\n",
    "    momenta = np.zeros([num,4])\n",
    "    momenta[:,3] = wMass\n",
    "    \n",
    "    return momenta\n",
    "\n",
    "def vecToArr(vec):\n",
    "    '''converts lorentzvector to array of components'''\n",
    "    arr = np.zeros([4])\n",
    "    arr[0] = vec.Px()\n",
    "    arr[1] = vec.Py()\n",
    "    arr[2] = vec.Pz()\n",
    "    arr[3] = vec.E()\n",
    "    \n",
    "    return arr"
   ]
  },
  {
   "cell_type": "code",
   "execution_count": 3,
   "id": "consecutive-meter",
   "metadata": {},
   "outputs": [],
   "source": [
    "def backToBack(beta):\n",
    "    '''from a given beta (ratio v/c) of the initial particles produces numpy array of 4 momenta of\n",
    "    w pair with one hadronic decay and one leptonic decay'''\n",
    "    event = np.zeros([5,4])\n",
    "    # making back to back w bosons (stationary)\n",
    "    wMass = 80.3\n",
    "    \n",
    "    wmag = 3 # ??\n",
    "    \n",
    "    theta, phi = thetaPhi()\n",
    "    Px, Py, Pz = momenta(wmag, theta, phi)\n",
    "\n",
    "    w1 = r.Math.LorentzVector('ROOT::Math::PxPyPzE4D<double>')(Px, Py, Pz, wMass)\n",
    "    w2 = r.Math.LorentzVector('ROOT::Math::PxPyPzE4D<double>')(-Px, -Py, -Pz, wMass)\n",
    "\n",
    "    #boosting the Ws\n",
    "    beta = beta\n",
    "    boostedW1 = r.Math.VectorUtil.boostZ(w1, beta)\n",
    "    w1Arr = vecToArr(boostedW1)\n",
    "    boostedW2 = r.Math.VectorUtil.boostZ(w2, beta)\n",
    "    w2Arr = vecToArr(boostedW2)\n",
    "\n",
    "    # have to make them into tlorentzvectors for the boostvector function to work\n",
    "    boow1 = r.TLorentzVector()\n",
    "    boow1.SetPxPyPzE(boostedW1.Px(), boostedW1.Py(), boostedW1.Pz(), boostedW1.E())\n",
    "    boow2 = r.TLorentzVector()\n",
    "    boow2.SetPxPyPzE(boostedW2.Px(), boostedW2.Py(), boostedW2.Pz(), boostedW2.E())\n",
    "\n",
    "    #making boost vectors for the daughter particles of each w\n",
    "    boost1 = boow1.BoostVector()\n",
    "    boost2 = boow2.BoostVector()\n",
    "\n",
    "\n",
    "    #making the hadronic decay particles this will use w1 as its parent\n",
    "    #in w1 rest frame to start\n",
    "    ej = wMass/2\n",
    "    thetaj, phij = thetaPhi()\n",
    "    Px, Py, Pz = momenta(ej, thetaj, phij)\n",
    "    j1 = r.Math.LorentzVector('ROOT::Math::PxPyPzE4D<double>')(Px, Py, Pz, ej)\n",
    "    j2 = r.Math.LorentzVector('ROOT::Math::PxPyPzE4D<double>')(-Px, -Py, -Pz, ej)\n",
    "\n",
    "    # boosting jets to frame of W1\n",
    "    j1Boost = r.Math.VectorUtil.boost(j1, boost1)\n",
    "    j1Arr = vecToArr(j1Boost)\n",
    "    j2Boost = r.Math.VectorUtil.boost(j2, boost1)\n",
    "    j2Arr = vecToArr(j2Boost)\n",
    "\n",
    "    # making leptonic decay particles using W2 as parent\n",
    "    # w2 rest frame to start\n",
    "    eE = wMass / 2\n",
    "    thetae, phie = thetaPhi()\n",
    "    Px, Py, Pz = momenta(eE, thetae, phie)\n",
    "    e = r.Math.LorentzVector('ROOT::Math::PxPyPzE4D<double>')(Px, Py, Pz, eE)\n",
    "    #n = r.Math.LorentzVector('ROOT::Math::PxPyPzE4D<double>')(-Px, -Py, -Pz, eE)\n",
    "\n",
    "    #boosting e and n to frame of W2\n",
    "    eBoost = r.Math.VectorUtil.boost(e, boost2)\n",
    "    eArr = vecToArr(eBoost)\n",
    "    #nBoost = r.Math.VectorUtil.boost(n, boost2)\n",
    "    #nArr = vecToArr(nBoost)\n",
    "\n",
    "    #putting all particles into one array\n",
    "    event[0] = w1Arr\n",
    "    event[1] = w2Arr\n",
    "    event[2] = j1Arr\n",
    "    event[3] = j2Arr\n",
    "    event[4] = eArr\n",
    "    #event[5] = nArr\n",
    "    \n",
    "    return event"
   ]
  },
  {
   "cell_type": "code",
   "execution_count": 4,
   "id": "binary-arthritis",
   "metadata": {},
   "outputs": [
    {
     "name": "stdout",
     "output_type": "stream",
     "text": [
      "[[  1.57926429  -2.3751912   26.22779973  84.46965779]\n",
      " [ -1.57926429   2.3751912   24.2785637   83.88488698]\n",
      " [ 11.75350131 -38.59493316  23.77227555  46.82771341]\n",
      " [-10.17313372  36.21808262   2.47384725  37.70095594]\n",
      " [  3.55575056  12.10376141 -27.89048182  30.6108376 ]]\n"
     ]
    }
   ],
   "source": [
    "print(backToBack(0.3))"
   ]
  },
  {
   "cell_type": "code",
   "execution_count": 5,
   "id": "hidden-audit",
   "metadata": {},
   "outputs": [],
   "source": [
    "def  generateEvents(numEv, beta):\n",
    "    ''' Generates number of different events.\n",
    "    '''\n",
    "    \n",
    "    events = np.zeros([numEv,5,4])\n",
    "    \n",
    "    for i in range(numEv):\n",
    "        events[i] = backToBack(beta)\n",
    "     \n",
    "    return events    "
   ]
  },
  {
   "cell_type": "code",
   "execution_count": 6,
   "id": "ready-creature",
   "metadata": {},
   "outputs": [],
   "source": [
    "numberOfEvents = 10\n",
    "beta = 0.1\n",
    "events = generateEvents(numberOfEvents,beta)"
   ]
  },
  {
   "cell_type": "code",
   "execution_count": 7,
   "id": "powered-character",
   "metadata": {},
   "outputs": [
    {
     "data": {
      "text/plain": [
       "array([[ 6.45706731e-02,  5.34239115e-02,  5.05651692e+00,\n",
       "         8.04031429e+01],\n",
       "       [-6.45706731e-02, -5.34239115e-02,  1.10843904e+01,\n",
       "         8.10059302e+01],\n",
       "       [ 1.06089983e+01, -3.07045473e+01,  2.61502703e+01,\n",
       "         4.17031978e+01],\n",
       "       [-1.05443825e+01,  3.07580085e+01, -2.10902209e+01,\n",
       "         3.87561157e+01],\n",
       "       [-2.76930559e+01, -6.59252124e+00,  3.41702587e+01,\n",
       "         4.44744113e+01]])"
      ]
     },
     "execution_count": 7,
     "metadata": {},
     "output_type": "execute_result"
    }
   ],
   "source": [
    "events[0]"
   ]
  },
  {
   "cell_type": "code",
   "execution_count": 8,
   "id": "coupled-monitor",
   "metadata": {},
   "outputs": [
    {
     "data": {
      "text/plain": [
       "<cppyy.gbl.TBranch object at 0x7b12b90>"
      ]
     },
     "execution_count": 8,
     "metadata": {},
     "output_type": "execute_result"
    }
   ],
   "source": [
    "tree = r.TTree(\"tree\", \"initial random e and n components\")\n",
    "\n",
    "w1Branch = np.zeros(4)\n",
    "w2Branch = np.zeros(4)\n",
    "jet1Branch = np.zeros(4)\n",
    "jet2Branch = np.zeros(4)\n",
    "eBranch = np.zeros(4)\n",
    "\n",
    "tree.Branch(\"w1Boson\",w1Branch,\"w1Array[4]/D\")\n",
    "tree.Branch(\"w2Boson\",w2Branch,\"w2Array[4]/D\")\n",
    "tree.Branch(\"jet1\",jet1Branch,\"jet1Array[4]/D\")\n",
    "tree.Branch(\"jet2\",jet2Branch,\"jet2Array[4]/D\")\n",
    "tree.Branch(\"electron\",eBranch,\"elArray[4]/D\")"
   ]
  },
  {
   "cell_type": "code",
   "execution_count": 9,
   "id": "creative-airport",
   "metadata": {},
   "outputs": [],
   "source": [
    "# Filling values into TTree\n",
    "for i in range(numberOfEvents):\n",
    "    for j in range(4):\n",
    "        w1Branch[j] = events[i,0,j]\n",
    "        w2Branch[j] = events[i,1,j]\n",
    "        jet1Branch[j] = events[i,2,j]\n",
    "        jet2Branch[j] = events[i,3,j]\n",
    "        eBranch[j] = events[i,4,j]\n",
    "    \n",
    "    tree.Fill()"
   ]
  },
  {
   "cell_type": "code",
   "execution_count": 13,
   "id": "driven-soundtrack",
   "metadata": {},
   "outputs": [
    {
     "data": {
      "text/plain": [
       "<cppyy.CPPOverload at 0x7ff9b7825af0>"
      ]
     },
     "execution_count": 13,
     "metadata": {},
     "output_type": "execute_result"
    }
   ],
   "source": [
    "file = r.TFile(\"events2W.root\",\"recreate\")\n",
    "tree.Write()\n",
    "file.Close"
   ]
  },
  {
   "cell_type": "code",
   "execution_count": 14,
   "id": "floral-check",
   "metadata": {},
   "outputs": [
    {
     "data": {
      "text/plain": [
       "40"
      ]
     },
     "execution_count": 14,
     "metadata": {},
     "output_type": "execute_result"
    },
    {
     "name": "stdout",
     "output_type": "stream",
     "text": [
      "***********************************************************************************\n",
      "*    Row   * Instance * w1Boson.w * w2Boson.w * jet1.jet1 * jet2.jet2 * electron. *\n",
      "***********************************************************************************\n",
      "*        0 *        0 * 0.0645706 * -0.064570 * 10.608998 * -10.54438 * -27.69305 *\n",
      "*        0 *        1 * 0.0534239 * -0.053423 * -30.70454 * 30.758008 * -6.592521 *\n",
      "*        0 *        2 * 5.0565169 * 11.084390 * 26.150270 * -21.09022 * 34.170258 *\n",
      "*        0 *        3 * 80.403142 * 81.005930 * 41.703197 * 38.756115 * 44.474411 *\n",
      "*        1 *        0 * -0.567484 * 0.5674849 * -4.686208 * 4.1183267 * 7.9521592 *\n",
      "*        1 *        1 * -0.600520 * 0.6005204 * -0.809739 * 0.2087991 * 15.679958 *\n",
      "*        1 *        2 * 5.1719454 * 10.968961 * 42.577513 * -37.40195 * -31.11260 *\n",
      "*        1 *        3 * 80.414685 * 80.994387 * 42.842279 * 37.628585 * 35.736427 *\n",
      "*        2 *        0 * -0.821853 * 0.8218536 * 15.991534 * -16.81396 * 39.940439 *\n",
      "*        2 *        1 * -1.562985 * 1.5629852 * -21.87326 * 20.309186 * 5.5645789 *\n",
      "*        2 *        2 * 5.6330279 * 10.507879 * -27.20804 * 32.845004 * 0.0980422 *\n",
      "*        2 *        3 * 80.460794 * 80.948279 * 38.398520 * 42.118484 * 40.326329 *\n",
      "*        3 *        0 * 0.0053704 * -0.005370 * -40.07300 * 40.078375 * 1.7267849 *\n",
      "*        3 *        1 * 1.0156324 * -1.015632 * -1.919197 * 2.9355395 * -0.330703 *\n",
      "*        3 *        2 * 10.907521 * 5.2333862 * 5.1846524 * 5.7304887 * 42.815912 *\n",
      "*        3 *        3 * 80.988243 * 80.420829 * 40.452556 * 40.592265 * 42.851995 *\n",
      "*        4 *        0 * -1.040015 * 1.0400152 * -27.45429 * 26.413555 * -27.67186 *\n",
      "*        4 *        1 * 1.3501168 * -1.350116 * 23.335997 * -21.98493 * -24.36191 *\n",
      "*        4 *        2 * 5.5890983 * 10.551808 * 22.223474 * -16.63047 * 21.427195 *\n",
      "*        4 *        3 * 80.456401 * 80.952672 * 42.334265 * 38.178343 * 42.642226 *\n",
      "*        5 *        0 * -1.455177 * 1.4551778 * 8.4877076 * -9.943902 * -11.48608 *\n",
      "*        5 *        1 * 1.5511410 * -1.551141 * 36.885364 * -35.33313 * -12.35683 *\n",
      "*        5 *        2 * 10.196867 * 5.9440399 * 20.239292 * -10.03530 * 39.525725 *\n",
      "*        5 *        3 * 80.917177 * 80.491895 * 42.920860 * 38.052847 * 42.975626 *\n",
      "*        6 *        0 * -0.535583 * 0.5355838 * 25.998226 * -26.53418 * -1.495320 *\n",
      "*        6 *        1 * 2.4422532 * -2.442253 * -3.692357 * 6.1363173 * -0.583725 *\n",
      "*        6 *        2 * 6.4042267 * 9.7366806 * -26.88446 * 33.293161 * 45.268034 *\n",
      "*        6 *        3 * 80.537913 * 80.871159 * 37.580786 * 43.013392 * 45.296486 *\n",
      "*        7 *        0 * -1.729749 * 1.7297493 * -35.98585 * 34.254900 * -35.57440 *\n",
      "*        7 *        1 * 0.9917984 * -0.991798 * -18.92572 * 19.918216 * -17.20841 *\n",
      "*        7 *        2 * 10.323241 * 5.8176657 * 3.9422391 * 6.3882143 * 5.1543912 *\n",
      "*        7 *        3 * 80.929815 * 80.479257 * 40.849801 * 40.136552 * 39.852668 *\n",
      "*        8 *        0 * 0.1904574 * -0.190457 * 5.5041319 * -5.313541 * -24.28855 *\n",
      "*        8 *        1 * -1.990813 * 1.9908133 * 36.031710 * -38.02391 * 12.180442 *\n",
      "*        8 *        2 * 10.317873 * 5.8230335 * 19.744431 * -9.419349 * 33.045593 *\n",
      "*        8 *        3 * 80.929278 * 80.479794 * 41.453856 * 39.531960 * 42.782101 *\n",
      "*        9 *        0 * -0.229384 * 0.2293849 * 4.7868139 * -5.016359 * -1.406241 *\n",
      "*        9 *        1 * 0.6765628 * -0.676562 * -8.535428 * 9.2124640 * 32.513197 *\n",
      "*        9 *        2 * 10.998831 * 5.1420754 * -33.72129 * 44.727813 * 25.635782 *\n",
      "*        9 *        3 * 80.997374 * 80.411698 * 35.112577 * 45.941383 * 41.427996 *\n",
      "***********************************************************************************\n"
     ]
    },
    {
     "name": "stderr",
     "output_type": "stream",
     "text": [
      "Type <CR> to continue or q to quit ==> "
     ]
    }
   ],
   "source": [
    "tree.Scan()"
   ]
  },
  {
   "cell_type": "code",
   "execution_count": null,
   "id": "controlled-reaction",
   "metadata": {},
   "outputs": [],
   "source": []
  }
 ],
 "metadata": {
  "kernelspec": {
   "display_name": "Python 3",
   "language": "python",
   "name": "python3"
  },
  "language_info": {
   "codemirror_mode": {
    "name": "ipython",
    "version": 3
   },
   "file_extension": ".py",
   "mimetype": "text/x-python",
   "name": "python",
   "nbconvert_exporter": "python",
   "pygments_lexer": "ipython3",
   "version": "3.8.5"
  }
 },
 "nbformat": 4,
 "nbformat_minor": 5
}
